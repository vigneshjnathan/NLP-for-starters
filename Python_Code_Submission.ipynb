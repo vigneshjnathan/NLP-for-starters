{
 "cells": [
  {
   "cell_type": "markdown",
   "id": "d214bd2f",
   "metadata": {},
   "source": [
    "# Topic Analysis on TESS Toronto Emotional speech set data"
   ]
  },
  {
   "attachments": {},
   "cell_type": "markdown",
   "id": "e400ed30",
   "metadata": {},
   "source": [
    "A. Convert speech to text using python "
   ]
  },
  {
   "cell_type": "markdown",
   "id": "bd56f8da",
   "metadata": {},
   "source": [
    "B. Conduct sentiment analysis on the text data "
   ]
  },
  {
   "cell_type": "markdown",
   "id": "aa6c7514",
   "metadata": {},
   "source": [
    "C. Find the topics in the text using LDA."
   ]
  },
  {
   "cell_type": "markdown",
   "id": "9e6d6c10",
   "metadata": {},
   "source": [
    "D. Find salient entities in the speech "
   ]
  },
  {
   "cell_type": "markdown",
   "id": "420e4e25",
   "metadata": {},
   "source": [
    "The sample audio set used for this analysis is 225 audio sets which would be converted to text and topic modelling would be done on this."
   ]
  },
  {
   "cell_type": "code",
   "execution_count": 1,
   "id": "71c9f109",
   "metadata": {},
   "outputs": [
    {
     "name": "stdout",
     "output_type": "stream",
     "text": [
      "Populating the interactive namespace from numpy and matplotlib\n"
     ]
    }
   ],
   "source": [
    "import os\n",
    "import numpy as np\n",
    "%pylab inline\n",
    "import glob\n",
    "import librosa.display\n",
    "import matplotlib.pyplot as plt\n",
    "import tensorflow as tf"
   ]
  },
  {
   "cell_type": "code",
   "execution_count": 2,
   "id": "82b373ce",
   "metadata": {},
   "outputs": [],
   "source": [
    "import matplotlib.pyplot as plt\n",
    "%matplotlib inline"
   ]
  },
  {
   "cell_type": "code",
   "execution_count": 3,
   "id": "441eb6d4",
   "metadata": {},
   "outputs": [],
   "source": [
    "import pandas as pd"
   ]
  },
  {
   "cell_type": "code",
   "execution_count": 4,
   "id": "929ad68c",
   "metadata": {},
   "outputs": [],
   "source": [
    "import speech_recognition as sr"
   ]
  },
  {
   "cell_type": "markdown",
   "id": "a3a36107",
   "metadata": {},
   "source": [
    "# Objective 1- Speech to text Conversion"
   ]
  },
  {
   "cell_type": "code",
   "execution_count": 8,
   "id": "543dcbdb",
   "metadata": {},
   "outputs": [],
   "source": [
    "import csv\n",
    "DIRNAME = r'C:\\Users\\Vignesh\\Desktop\\Python Projects\\TESS Toronto emotional speech set data\\Combined Train'\n",
    "OUTPUTFILE = r'C:\\Users\\Vignesh\\Desktop\\Python Projects\\TESS Toronto emotional speech set data\\Combined Train\\outputfile.csv'\n",
    "\n",
    "def get_file_paths(dirname):\n",
    "    file_paths = []  \n",
    "    for root, directories, files in os.walk(dirname):\n",
    "        for filename in files:\n",
    "            filepath = os.path.join(root, filename)\n",
    "            file_paths.append(filepath)  \n",
    "    return file_paths    \n",
    "\n",
    "def process_file(file):\n",
    "    r = sr.Recognizer()\n",
    "    a = ''\n",
    "    with sr.AudioFile(file) as source:\n",
    "        audio = r.record(source)    \n",
    "        try:\n",
    "            a =  r.recognize_google(audio)      \n",
    "        except sr.UnknownValueError:\n",
    "            a = \"Audio not clear\"\n",
    "        except sr.RequestError as e:\n",
    "            a = \"Could not request results from Google Speech Recognition service; {0}\".format(e)  \n",
    "    return a\n",
    "\n",
    "def main():\n",
    "    files = get_file_paths(DIRNAME)                 \n",
    "    for file in files:                              \n",
    "        (filepath, ext) = os.path.splitext(file)    \n",
    "        file_name = os.path.basename(file)          \n",
    "        if ext == '.wav':                           \n",
    "            a = process_file(file)                  \n",
    "            with open(OUTPUTFILE, 'a') as f:        \n",
    "                writer = csv.writer(f)\n",
    "                writer.writerow([file_name, a])            \n",
    "\n",
    "\n",
    "if __name__ == '__main__':\n",
    "    main()"
   ]
  },
  {
   "cell_type": "code",
   "execution_count": 5,
   "id": "240281a0",
   "metadata": {},
   "outputs": [],
   "source": [
    "df=pd.read_csv('outputfile.csv')"
   ]
  },
  {
   "cell_type": "code",
   "execution_count": 6,
   "id": "5e0df0d7",
   "metadata": {},
   "outputs": [
    {
     "data": {
      "text/html": [
       "<div>\n",
       "<style scoped>\n",
       "    .dataframe tbody tr th:only-of-type {\n",
       "        vertical-align: middle;\n",
       "    }\n",
       "\n",
       "    .dataframe tbody tr th {\n",
       "        vertical-align: top;\n",
       "    }\n",
       "\n",
       "    .dataframe thead th {\n",
       "        text-align: right;\n",
       "    }\n",
       "</style>\n",
       "<table border=\"1\" class=\"dataframe\">\n",
       "  <thead>\n",
       "    <tr style=\"text-align: right;\">\n",
       "      <th></th>\n",
       "      <th>OAF_back_angry.wav</th>\n",
       "      <th>Audio not clear</th>\n",
       "    </tr>\n",
       "  </thead>\n",
       "  <tbody>\n",
       "    <tr>\n",
       "      <th>0</th>\n",
       "      <td>OAF_back_disgust.wav</td>\n",
       "      <td>Audio not clear</td>\n",
       "    </tr>\n",
       "    <tr>\n",
       "      <th>1</th>\n",
       "      <td>OAF_back_fear.wav</td>\n",
       "      <td>Sweden</td>\n",
       "    </tr>\n",
       "    <tr>\n",
       "      <th>2</th>\n",
       "      <td>OAF_back_happy.wav</td>\n",
       "      <td>is the word</td>\n",
       "    </tr>\n",
       "    <tr>\n",
       "      <th>3</th>\n",
       "      <td>OAF_back_neutral.wav</td>\n",
       "      <td>size of word</td>\n",
       "    </tr>\n",
       "    <tr>\n",
       "      <th>4</th>\n",
       "      <td>OAF_back_ps.wav</td>\n",
       "      <td>main is a word</td>\n",
       "    </tr>\n",
       "    <tr>\n",
       "      <th>...</th>\n",
       "      <td>...</td>\n",
       "      <td>...</td>\n",
       "    </tr>\n",
       "    <tr>\n",
       "      <th>3594</th>\n",
       "      <td>OAF_youth_fear.wav</td>\n",
       "      <td>Audio not clear</td>\n",
       "    </tr>\n",
       "    <tr>\n",
       "      <th>3595</th>\n",
       "      <td>OAF_youth_happy.wav</td>\n",
       "      <td>where is the work</td>\n",
       "    </tr>\n",
       "    <tr>\n",
       "      <th>3596</th>\n",
       "      <td>OAF_youth_neutral.wav</td>\n",
       "      <td>se is a word</td>\n",
       "    </tr>\n",
       "    <tr>\n",
       "      <th>3597</th>\n",
       "      <td>OAF_youth_ps.wav</td>\n",
       "      <td>Audio not clear</td>\n",
       "    </tr>\n",
       "    <tr>\n",
       "      <th>3598</th>\n",
       "      <td>OA_bite_neutral.wav</td>\n",
       "      <td>ok bye</td>\n",
       "    </tr>\n",
       "  </tbody>\n",
       "</table>\n",
       "<p>3599 rows × 2 columns</p>\n",
       "</div>"
      ],
      "text/plain": [
       "         OAF_back_angry.wav    Audio not clear\n",
       "0      OAF_back_disgust.wav    Audio not clear\n",
       "1         OAF_back_fear.wav             Sweden\n",
       "2        OAF_back_happy.wav        is the word\n",
       "3      OAF_back_neutral.wav       size of word\n",
       "4           OAF_back_ps.wav     main is a word\n",
       "...                     ...                ...\n",
       "3594     OAF_youth_fear.wav    Audio not clear\n",
       "3595    OAF_youth_happy.wav  where is the work\n",
       "3596  OAF_youth_neutral.wav       se is a word\n",
       "3597       OAF_youth_ps.wav    Audio not clear\n",
       "3598    OA_bite_neutral.wav             ok bye\n",
       "\n",
       "[3599 rows x 2 columns]"
      ]
     },
     "execution_count": 6,
     "metadata": {},
     "output_type": "execute_result"
    }
   ],
   "source": [
    "df"
   ]
  },
  {
   "cell_type": "code",
   "execution_count": 7,
   "id": "92ef71f5",
   "metadata": {},
   "outputs": [],
   "source": [
    "text=df.rename(columns={df.columns[0]:\"File_Name\",df.columns[1]:\"Speech_to_text\"})"
   ]
  },
  {
   "cell_type": "code",
   "execution_count": 8,
   "id": "00b3cd0d",
   "metadata": {},
   "outputs": [
    {
     "data": {
      "text/html": [
       "<div>\n",
       "<style scoped>\n",
       "    .dataframe tbody tr th:only-of-type {\n",
       "        vertical-align: middle;\n",
       "    }\n",
       "\n",
       "    .dataframe tbody tr th {\n",
       "        vertical-align: top;\n",
       "    }\n",
       "\n",
       "    .dataframe thead th {\n",
       "        text-align: right;\n",
       "    }\n",
       "</style>\n",
       "<table border=\"1\" class=\"dataframe\">\n",
       "  <thead>\n",
       "    <tr style=\"text-align: right;\">\n",
       "      <th></th>\n",
       "      <th>File_Name</th>\n",
       "      <th>Speech_to_text</th>\n",
       "    </tr>\n",
       "  </thead>\n",
       "  <tbody>\n",
       "    <tr>\n",
       "      <th>0</th>\n",
       "      <td>OAF_back_disgust.wav</td>\n",
       "      <td>Audio not clear</td>\n",
       "    </tr>\n",
       "    <tr>\n",
       "      <th>1</th>\n",
       "      <td>OAF_back_fear.wav</td>\n",
       "      <td>Sweden</td>\n",
       "    </tr>\n",
       "    <tr>\n",
       "      <th>2</th>\n",
       "      <td>OAF_back_happy.wav</td>\n",
       "      <td>is the word</td>\n",
       "    </tr>\n",
       "    <tr>\n",
       "      <th>3</th>\n",
       "      <td>OAF_back_neutral.wav</td>\n",
       "      <td>size of word</td>\n",
       "    </tr>\n",
       "    <tr>\n",
       "      <th>4</th>\n",
       "      <td>OAF_back_ps.wav</td>\n",
       "      <td>main is a word</td>\n",
       "    </tr>\n",
       "    <tr>\n",
       "      <th>...</th>\n",
       "      <td>...</td>\n",
       "      <td>...</td>\n",
       "    </tr>\n",
       "    <tr>\n",
       "      <th>3594</th>\n",
       "      <td>OAF_youth_fear.wav</td>\n",
       "      <td>Audio not clear</td>\n",
       "    </tr>\n",
       "    <tr>\n",
       "      <th>3595</th>\n",
       "      <td>OAF_youth_happy.wav</td>\n",
       "      <td>where is the work</td>\n",
       "    </tr>\n",
       "    <tr>\n",
       "      <th>3596</th>\n",
       "      <td>OAF_youth_neutral.wav</td>\n",
       "      <td>se is a word</td>\n",
       "    </tr>\n",
       "    <tr>\n",
       "      <th>3597</th>\n",
       "      <td>OAF_youth_ps.wav</td>\n",
       "      <td>Audio not clear</td>\n",
       "    </tr>\n",
       "    <tr>\n",
       "      <th>3598</th>\n",
       "      <td>OA_bite_neutral.wav</td>\n",
       "      <td>ok bye</td>\n",
       "    </tr>\n",
       "  </tbody>\n",
       "</table>\n",
       "<p>3599 rows × 2 columns</p>\n",
       "</div>"
      ],
      "text/plain": [
       "                  File_Name     Speech_to_text\n",
       "0      OAF_back_disgust.wav    Audio not clear\n",
       "1         OAF_back_fear.wav             Sweden\n",
       "2        OAF_back_happy.wav        is the word\n",
       "3      OAF_back_neutral.wav       size of word\n",
       "4           OAF_back_ps.wav     main is a word\n",
       "...                     ...                ...\n",
       "3594     OAF_youth_fear.wav    Audio not clear\n",
       "3595    OAF_youth_happy.wav  where is the work\n",
       "3596  OAF_youth_neutral.wav       se is a word\n",
       "3597       OAF_youth_ps.wav    Audio not clear\n",
       "3598    OA_bite_neutral.wav             ok bye\n",
       "\n",
       "[3599 rows x 2 columns]"
      ]
     },
     "execution_count": 8,
     "metadata": {},
     "output_type": "execute_result"
    }
   ],
   "source": [
    "text"
   ]
  },
  {
   "cell_type": "markdown",
   "id": "e4478ad6",
   "metadata": {},
   "source": [
    "# Objective 2- Sentiment Analysis"
   ]
  },
  {
   "cell_type": "code",
   "execution_count": 9,
   "id": "3823f165",
   "metadata": {},
   "outputs": [],
   "source": [
    "from textblob import TextBlob, Word, Blobber\n",
    "from textblob.classifiers import NaiveBayesClassifier\n",
    "from textblob.taggers import NLTKTagger"
   ]
  },
  {
   "cell_type": "code",
   "execution_count": 10,
   "id": "4b7b2fc9",
   "metadata": {},
   "outputs": [],
   "source": [
    "polarity=[]\n",
    "subjectivity=[]\n",
    "for i in text['Speech_to_text'].values:\n",
    "    try:\n",
    "        analysis=TextBlob(i)\n",
    "        polarity.append(analysis.sentiment.polarity)\n",
    "        subjectivity.append(analysis.sentiment.subjectivity)\n",
    "    \n",
    "    except:\n",
    "        polarity.append(0)\n",
    "        subjectivity.append(0)"
   ]
  },
  {
   "cell_type": "code",
   "execution_count": 11,
   "id": "2ec95bca",
   "metadata": {},
   "outputs": [],
   "source": [
    "text['Polarity']=polarity\n",
    "text['Subjectivity']=subjectivity"
   ]
  },
  {
   "cell_type": "code",
   "execution_count": 12,
   "id": "780a8308",
   "metadata": {},
   "outputs": [
    {
     "data": {
      "text/html": [
       "<div>\n",
       "<style scoped>\n",
       "    .dataframe tbody tr th:only-of-type {\n",
       "        vertical-align: middle;\n",
       "    }\n",
       "\n",
       "    .dataframe tbody tr th {\n",
       "        vertical-align: top;\n",
       "    }\n",
       "\n",
       "    .dataframe thead th {\n",
       "        text-align: right;\n",
       "    }\n",
       "</style>\n",
       "<table border=\"1\" class=\"dataframe\">\n",
       "  <thead>\n",
       "    <tr style=\"text-align: right;\">\n",
       "      <th></th>\n",
       "      <th>File_Name</th>\n",
       "      <th>Speech_to_text</th>\n",
       "      <th>Polarity</th>\n",
       "      <th>Subjectivity</th>\n",
       "    </tr>\n",
       "  </thead>\n",
       "  <tbody>\n",
       "    <tr>\n",
       "      <th>0</th>\n",
       "      <td>OAF_back_disgust.wav</td>\n",
       "      <td>Audio not clear</td>\n",
       "      <td>-0.050000</td>\n",
       "      <td>0.383333</td>\n",
       "    </tr>\n",
       "    <tr>\n",
       "      <th>1</th>\n",
       "      <td>OAF_back_fear.wav</td>\n",
       "      <td>Sweden</td>\n",
       "      <td>0.000000</td>\n",
       "      <td>0.000000</td>\n",
       "    </tr>\n",
       "    <tr>\n",
       "      <th>2</th>\n",
       "      <td>OAF_back_happy.wav</td>\n",
       "      <td>is the word</td>\n",
       "      <td>0.000000</td>\n",
       "      <td>0.000000</td>\n",
       "    </tr>\n",
       "    <tr>\n",
       "      <th>3</th>\n",
       "      <td>OAF_back_neutral.wav</td>\n",
       "      <td>size of word</td>\n",
       "      <td>0.000000</td>\n",
       "      <td>0.000000</td>\n",
       "    </tr>\n",
       "    <tr>\n",
       "      <th>4</th>\n",
       "      <td>OAF_back_ps.wav</td>\n",
       "      <td>main is a word</td>\n",
       "      <td>0.166667</td>\n",
       "      <td>0.333333</td>\n",
       "    </tr>\n",
       "    <tr>\n",
       "      <th>...</th>\n",
       "      <td>...</td>\n",
       "      <td>...</td>\n",
       "      <td>...</td>\n",
       "      <td>...</td>\n",
       "    </tr>\n",
       "    <tr>\n",
       "      <th>3594</th>\n",
       "      <td>OAF_youth_fear.wav</td>\n",
       "      <td>Audio not clear</td>\n",
       "      <td>-0.050000</td>\n",
       "      <td>0.383333</td>\n",
       "    </tr>\n",
       "    <tr>\n",
       "      <th>3595</th>\n",
       "      <td>OAF_youth_happy.wav</td>\n",
       "      <td>where is the work</td>\n",
       "      <td>0.000000</td>\n",
       "      <td>0.000000</td>\n",
       "    </tr>\n",
       "    <tr>\n",
       "      <th>3596</th>\n",
       "      <td>OAF_youth_neutral.wav</td>\n",
       "      <td>se is a word</td>\n",
       "      <td>0.000000</td>\n",
       "      <td>0.000000</td>\n",
       "    </tr>\n",
       "    <tr>\n",
       "      <th>3597</th>\n",
       "      <td>OAF_youth_ps.wav</td>\n",
       "      <td>Audio not clear</td>\n",
       "      <td>-0.050000</td>\n",
       "      <td>0.383333</td>\n",
       "    </tr>\n",
       "    <tr>\n",
       "      <th>3598</th>\n",
       "      <td>OA_bite_neutral.wav</td>\n",
       "      <td>ok bye</td>\n",
       "      <td>0.500000</td>\n",
       "      <td>0.500000</td>\n",
       "    </tr>\n",
       "  </tbody>\n",
       "</table>\n",
       "<p>3599 rows × 4 columns</p>\n",
       "</div>"
      ],
      "text/plain": [
       "                  File_Name     Speech_to_text  Polarity  Subjectivity\n",
       "0      OAF_back_disgust.wav    Audio not clear -0.050000      0.383333\n",
       "1         OAF_back_fear.wav             Sweden  0.000000      0.000000\n",
       "2        OAF_back_happy.wav        is the word  0.000000      0.000000\n",
       "3      OAF_back_neutral.wav       size of word  0.000000      0.000000\n",
       "4           OAF_back_ps.wav     main is a word  0.166667      0.333333\n",
       "...                     ...                ...       ...           ...\n",
       "3594     OAF_youth_fear.wav    Audio not clear -0.050000      0.383333\n",
       "3595    OAF_youth_happy.wav  where is the work  0.000000      0.000000\n",
       "3596  OAF_youth_neutral.wav       se is a word  0.000000      0.000000\n",
       "3597       OAF_youth_ps.wav    Audio not clear -0.050000      0.383333\n",
       "3598    OA_bite_neutral.wav             ok bye  0.500000      0.500000\n",
       "\n",
       "[3599 rows x 4 columns]"
      ]
     },
     "execution_count": 12,
     "metadata": {},
     "output_type": "execute_result"
    }
   ],
   "source": [
    "text"
   ]
  },
  {
   "cell_type": "markdown",
   "id": "49b3792a",
   "metadata": {},
   "source": [
    "# Objective 3-Topic finding using LDA"
   ]
  },
  {
   "cell_type": "code",
   "execution_count": 13,
   "id": "feccb9f1",
   "metadata": {},
   "outputs": [],
   "source": [
    "import spacy\n",
    "nlp = spacy.load(\"en_core_web_sm\")\n",
    "doc = nlp(\"Text here\")"
   ]
  },
  {
   "cell_type": "code",
   "execution_count": 14,
   "id": "faa43f8c",
   "metadata": {},
   "outputs": [],
   "source": [
    "def lemmatization(texts,allowed_postags=['NOUN','ADJ']):\n",
    "    output=[]\n",
    "    for sent in texts:\n",
    "        doc=nlp(sent)\n",
    "        output.append([token.lemma_ for token in doc if token.pos_ in allowed_postags])\n",
    "    return output"
   ]
  },
  {
   "cell_type": "code",
   "execution_count": 15,
   "id": "176e5cd3",
   "metadata": {},
   "outputs": [
    {
     "name": "stdout",
     "output_type": "stream",
     "text": [
      "['Audio not clear', 'Sweden', 'is the word', 'size of word', 'main is a word', 'Audio not clear', 'Audio not clear', 'sweet the word', 'Audio not clear', 'Shahid', 'Audio not clear', 'Audio not clear', 'Audio not clear', 'Sahi the word page', 'Audio not clear', 'Audio not clear', 'Audio not clear', 'Audio not clear', 'Audio not clear', 'Shahid', 'is a', 'Audio not clear', 'Audio not clear', 'Audio not clear', 'se', 'shahidon', 'Audio not clear', 'play the word', 'Audio not clear', 'Audio not clear', 'Audio not clear', 'Sahi the world', 'Audio not clear', 'Audio not clear', 'Audio not clear', 'Audio not clear', 'Audio not clear', 'Audio not clear', 'Audio not clear', 'Audio not clear', 'Audio not clear', 'Audio not clear', 'Audio not clear', 'Audio not clear', 'Audio not clear', 'Audio not clear', 'Audio not clear', 'Audio not clear', 'Audio not clear', 'Audio not clear', 'size of word', 'Audio not clear', 'Audio not clear', 'Audio not clear', 'Audio not clear', 'is the word', 'size of word', 'Audio not clear', 'Audio not clear', 'Audio not clear', 'Shahid', 'is a', 'say the word', 'Audio not clear', 'Audio not clear', 'Audio not clear', 'Audio not clear', 'Audio not clear', 'size of word', 'Audio not clear', 'Audio not clear', 'Audio not clear', 'shareit', 'Audio not clear', 'Shahid', 'Audio not clear', 'Audio not clear', 'Audio not clear', 'Audio not clear', 'is the word', 'Audio not clear', 'Audio not clear', 'Audio not clear', 'Audio not clear', 'shareit', 'where is', 'size of word', 'Audio not clear', 'Audio not clear', 'Audio not clear', 'free call', 'Audio not clear', 'size', 'Audio not clear', 'Audio not clear', 'Audio not clear', 'Silver chain', 'Audio not clear', 'se is a word chain', 'Audio not clear', 'Audio not clear', 'Audio not clear', 'Audio not clear', 'Dawood', 'Audio not clear', 'Audio not clear', 'Audio not clear', 'Audio not clear', 'Audio not clear', 'Audio not clear', 'Audio not clear', 'Audio not clear', 'Audio not clear', 'Audio not clear', 'Shahid', 'Audio not clear', 'Audio not clear', 'Audio not clear', 'Audio not clear', 'Audio not clear', 'Audio not clear', 'where is the wood', 'size of word', 'Audio not clear', 'Audio not clear', 'Audio not clear', 'Shahid', 'Audio not clear', 'Audio not clear', 'Audio not clear', 'the word', 'Audio not clear', 'shareit', 'Audio not clear', 'size of word chief', 'Audio not clear', 'Audio not clear', 'Audio not clear', 'Audio not clear', 'Audio not clear', 'Audio not clear', 'Audio not clear', 'Audio not clear', 'Audio not clear', 'shareit', 'is the work', 'Audio not clear', 'Audio not clear', 'Audio not clear', 'Audio not clear', 'Audio not clear', 'is the word', 'Audio not clear', 'Audio not clear', 'Audio not clear', 'Audio not clear', 'Audio not clear', 'where is the word', 'size of world', 'is the word', 'Audio not clear', 'Audio not clear', 'Audio not clear', 'Audio not clear', 'se is a word', 'Audio not clear', 'Audio not clear', 'Audio not clear', 'Audio not clear', 'Audio not clear', 'Audio not clear', 'Audio not clear', 'Audio not clear', 'Audio not clear', 'Audio not clear', 'Audio not clear', 'size of word', 'Audio not clear', 'Audio not clear', 'Audio not clear', 'Shahid Uddin', 'Audio not clear', 'Audio not clear', 'Audio not clear', 'Audio not clear', 'Audio not clear', 'Audio not clear', 'where is the world', 'Audio not clear', 'Audio not clear', 'Audio not clear', 'Audio not clear', 'shareit', 'is the word', 'Shahid', 'Audio not clear', 'Audio not clear', 'Audio not clear', 'the word dot', 'Audio not clear', 'size of word', 'se is a word', 'Audio not clear', 'Audio not clear', 'Sai Baba', 'is the world', 'size of word', 'Audio not clear', 'Audio not clear', 'Audio not clear', 'sorry robot', 'Audio not clear', 'size of world', 'Audio not clear', 'Audio not clear', 'se is', 'Sai Baba', 'Audio not clear', 'Audio not clear', 'Audio not clear', 'Audio not clear', 'Audio not clear', 'Audio not clear', 'Audio not clear', 'Audio not clear', 'is a', 'Audio not clear', 'Audio not clear', 'shareit', 'Audio not clear', 'Audio not clear', 'Audio not clear', 'Audio not clear', 'Audio not clear', 'siren', 'Audio not clear', 'Audio not clear', 'Audio not clear', 'Audio not clear', 'Audio not clear', 'Audio not clear', 'Audio not clear', 'the word', 'Audio not clear', 'Audio not clear', 'Audio not clear', 'Audio not clear', 'Audio not clear', 'size of word', 'Audio not clear', 'Audio not clear', 'chai words', 'Audio not clear', 'Audio not clear', 'size of word file', 'se is a word', 'Shahid', 'Audio not clear', 'Could not request results from Google Speech Recognition service; recognition request failed: Bad Request', 'Audio not clear', 'size of word', 'Audio not clear', 'kya', 'se', 'Sahi the word kya', 'Audio not clear', 'Audio not clear', 'Audio not clear', 'Audio not clear', 'Audio not clear', 'Audio not clear', 'there is a', 'size of word gas', 'Audio not clear', 'Audio not clear', 'Audio not clear', 'save the world', 'Audio not clear', 'Audio not clear', 'Audio not clear', 'Audio not clear', 'Jo', 'Audio not clear', 'Audio not clear', 'size of virgin', 'se is a word', 'Audio not clear', 'Audio not clear', 'Audio not clear', 'where is the world', 'Audio not clear', 'Audio not clear', 'Audio not clear', 'Audio not clear', 'shareit', 'is the word', 'Audio not clear', 'Audio not clear', 'Audio not clear', 'Audio not clear', 'Audio not clear', 'is the word', 'size of word', 'where is', 'Audio not clear', 'se', 'Shahid', 'Audio not clear', 'Audio not clear', 'Audio not clear', 'Audio not clear', 'Audio not clear', 'Audio not clear', 'Audio not clear', 'Audio not clear', 'there is a word', 'Audio not clear', 'se', 'sweet', 'Audio not clear', 'size of word', 'Audio not clear', 'Audio not clear', 'Audio not clear', 'Audio not clear', 'is a', 'Audio not clear', 'Audio not clear', 'the world', 'Audio not clear', 'the word Ho', 'is the world', 'Audio not clear', 'se is', 'Audio not clear', 'Audio not clear', 'save the world has', 'Audio not clear', 'say the world has', 'Audio not clear', 'Audio not clear', 'Audio not clear', 'Audio not clear', 'the word', 'Audio not clear', 'Audio not clear', 'Audio not clear', 'Audio not clear', 'hello', 'where is the', 'size of', 'Audio not clear', 'Audio not clear', 'hay', 'sahi hai', 'haze', 'size of word Hale', 'hay hay', 'Audio not clear', 'Audio not clear', 'size of word hai', 'Audio not clear', 'Shahid hai', 'Audio not clear', 'Audio not clear', 'Audio not clear', 'the word here', 'is a', 'world hair', 'Audio not clear', 'Audio not clear', 'Audio not clear', 'Audio not clear', 'Audio not clear', 'size of Ho', 'Audio not clear', 'the world', 'home', 'shareit', 'Audio not clear', 'the word home', 'Audio not clear', 'Audio not clear', 'Audio not clear', 'Audio not clear', 'Audio not clear', 'size of word', 'Audio not clear', 'Audio not clear', 'Harsh', 'Audio not clear', 'Nahin', 'Audio not clear', 'Audio not clear', 'Audio not clear', 'Audio not clear', 'shareit', 'Audio not clear', 'Audio not clear', 'Audio not clear', 'Audio not clear', 'se is', 'Shahid', 'Audio not clear', 'size of word', 'Audio not clear', 'Audio not clear', 'Audio not clear', 'Audio not clear', 'Audio not clear', 'Audio not clear', 'Audio not clear', 'Audio not clear', 'Audio not clear', 'Audio not clear', 'is the word', 'Audio not clear', 'Audio not clear', 'Audio not clear', 'Audio not clear', 'Audio not clear', 'Audio not clear', 'say the word jug', 'Audio not clear', 'Audio not clear', 'Audio not clear', 'Audio not clear', 'is the world', 'Audio not clear', 'Audio not clear', 'Audio not clear', 'Audio not clear', 'Sweden', 'Audio not clear', 'Audio not clear', 'Audio not clear', 'Audio not clear', 'Audio not clear', 'Sahi the world', 'Audio not clear', 'Audio not clear', 'Audio not clear', 'Audio not clear', 'Audio not clear', 'Audio not clear', 'Audio not clear', 'size of work', 'where is the word', 'Audio not clear', '6', 'Audio not clear', 'where is the word', 'Audio not clear', 'se is', 'Audio not clear', 'share', 'Audio not clear', 'where is a', 'size of work', 'is the word', 'Audio not clear', 'se is', 'Audio not clear', 'Audio not clear', 'Audio not clear', 'Audio not clear', 'size of word', 'Audio not clear', 'Audio not clear', 'where is a work', 'sirf', 'Audio not clear', 'the world', 'se is a word', 'Sahi', 'Audio not clear', 'Audio not clear', 'Audio not clear', 'Audio not clear', 'Audio not clear', 'street light', 'Xavier', 'Audio not clear', 'Audio not clear', 'Sahi the word', 'Audio not clear', 'Sahiba', 'Audio not clear', 'Audio not clear', 'Audio not clear', 'Audio not clear', 'Audio not clear', 'Audio not clear', 'where is the', 'size of word', 'se is a word', 'Audio not clear', 'Audio not clear', 'Audio not clear', 'the world', 'Audio not clear', 'Audio not clear', 'Audio not clear', 'Audio not clear', 'Audio not clear', 'Audio not clear', 'Audio not clear', 'Audio not clear', 'Audio not clear', 'Audio not clear', 'Audio not clear', 'Audio not clear', 'Audio not clear', 'is the word', 'Audio not clear', 'Audio not clear', 'wife', 'is the', 'Audio not clear', 'Audio not clear', 'Audio not clear', 'Audio not clear', 'Audio not clear', 'Audio not clear', 'Audio not clear', 'se', 'Audio not clear', 'Audio not clear', 'Audio not clear', 'is the world', 'size of liver', 'se', 'Audio not clear', 'Audio not clear', 'Audio not clear', 'is the word', 'size of word', 'se', 'Audio not clear', 'Audio not clear', 'Sai Baba', 'the word', 'Audio not clear', 'Audio not clear', 'Audio not clear', 'Audio not clear', 'shahidon', 'Audio not clear', 'say the word', 'where is the word', 'Audio not clear', 'world', 'sweet', 'Audio not clear', 'Audio not clear', 'say the word', 'Audio not clear', 'size of word', 'Swimming world', 'is a word', 'Shahid', 'word', 'Audio not clear', 'Audio not clear', 'Audio not clear', 'is a word', 'size of word', 'Audio not clear', 'Audio not clear', 'Audio not clear', 'try the world', 'where is the world', 'se is a word', 'Audio not clear', 'Audio not clear', 'size', 'cedarwood', 'is the world', 'Audio not clear', 'Audio not clear', 'Audio not clear', 'Audio not clear', 'cyber world match', 'Dawood', 'Audio not clear', 'Audio not clear', 'Audio not clear', 'Audio not clear', 'the word', 'Audio not clear', 'size of word', 'Audio not clear', 'Audio not clear', 'Jay is a mess', 'cyber world map', 'where is the world', 'size of word mess', 'Audio not clear', 'in the world', 'se is a word', 'world map', 'Audio not clear', 'Audio not clear', 'Audio not clear', 'Audio not clear', 'Audio not clear', 'the word new', 'where is the', 'Audio not clear', 'there is a', 'Sahi the word', 'Audio not clear', 'see the world map', 'is the word', 'Audio not clear', 'Audio not clear', 'Audio not clear', 'Audio not clear', 'the word movie', 'Audio not clear', 'the world', 'Audio not clear', 'Audio not clear', 'Audio not clear', 'Audio not clear', 'where is the word', 'se is a word', 'say is a verb', 'Audio not clear', 'play is', 'Audio not clear', 'Audio not clear', 'say the word', 'Audio not clear', 'Audio not clear', 'Audio not clear', 'Sarita Verma', 'where is the work', 'size of word', 'Audio not clear', 'Audio not clear', 'Audio not clear', 'Mouse', 'Audio not clear', 'size of', 'Audio not clear', 'Audio not clear', 'Audio not clear', 'Shahid good night', 'Audio not clear', 'say the word', 'Audio not clear', 'the word', 'Audio not clear', 'Audio not clear', 'Audio not clear', 'size of bird name', 'Audio not clear', 'Audio not clear', 'Audio not clear', 'Sweden', 'where is the', 'Audio not clear', 'Audio not clear', 'Audio not clear', 'Audio not clear', 'Audio not clear', 'Audio not clear', 'Audio not clear', 'Audio not clear', 'Audio not clear', 'noise', 'Audio not clear', 'Audio not clear', 'Audio not clear', 'Audio not clear', 'the world', 'Audio not clear', \"sorry I don't know\", 'where is the word no', 'Audio not clear', 'is the word', 'Audio not clear', 'Audio not clear', 'study the word', 'is the word', 'Sajan', 'Audio not clear', 'Audio not clear', 'Audio not clear', 'free the world', 'Audio not clear', 'say the word', 'Audio not clear', 'Audio not clear', 'Audio not clear', 'Audio not clear', 'hage', 'size of word', 'Audio not clear', 'the word', 'Audio not clear', 'sorry the word', 'where is the', 'size', 'Audio not clear', 'Audio not clear', 'Audio not clear', 'sweet the word', 'is the word', 'se is a word', 'Audio not clear', 'Audio not clear', 'se is', 'cyber world', 'where is the', 'Audio not clear', 'Audio not clear', 'say the word', 'Shahid hey', 'Audio not clear', 'where is a way', 'Audio not clear', 'Audio not clear', 'Audio not clear', 'Audio not clear', 'Audio not clear', 'is the word', 'Audio not clear', 'is the', 'Audio not clear', 'Audio not clear', 'Sahi the word phone', 'where is the word', 'Audio not clear', 'Audio not clear', 'Audio not clear', 'Audio not clear', 'the word', 'Audio not clear', 'Audio not clear', 'Audio not clear', 'Audio not clear', 'Audio not clear', 'sweet the word', 'is the world', 'size of world', 'Audio not clear', 'Audio not clear', 'Audio not clear', 'shareit', 'is the word', 'Audio not clear', 'Audio not clear', 'Audio not clear', 'Audio not clear', 'Shahid Kapoor', 'Audio not clear', 'size of word', 'Audio not clear', 'Audio not clear', 'han', 'shareit', 'Audio not clear', 'Audio not clear', 'Audio not clear', 'Audio not clear', 'Audio not clear', 'Audio not clear', 'where is', 'Audio not clear', 'Audio not clear', 'Audio not clear', 'se', 'shareit', 'Audio not clear', 'Audio not clear', 'where is', 'Audio not clear', 'Audio not clear', 'the world', 'Dawood', 'wordbrain', 'Audio not clear', 'Audio not clear', 'Audio not clear', 'the world race', 'is the world', 'size of world', 'Audio not clear', 'Audio not clear', 'Audio not clear', 'shareit', 'Audio not clear', 'Audio not clear', 'when is the world', 'Audio not clear', 'Audio not clear', 'cyber week', 'Audio not clear', 'the world', 'Audio not clear', 'in the world', 'Audio not clear', 'Audio not clear', 'Audio not clear', 'save the world', 'Audio not clear', 'Shahid', 'Sohail', 'Audio not clear', 'Audio not clear', 'size of world', 'is the', 'Audio not clear', 'Audio not clear', 'Shahid Kapoor', 'when is the world', 'Audio not clear', 'Audio not clear', 'Audio not clear', 'Audio not clear', 'Audio not clear', 'Audio not clear', 'Audio not clear', 'Audio not clear', 'Audio not clear', 'Audio not clear', 'Road', 'Audio not clear', 'size of World War II', 'Audio not clear', 'Audio not clear', 'Audio not clear', 'Sharif', 'Audio not clear', 'size of', 'is a', 'Audio not clear', 'Audio not clear', 'Audio not clear', 'is the world', 'the world Browser', 'Audio not clear', 'Audio not clear', 'Audio not clear', 'Audio not clear', 'Mizo version', 'Audio not clear', 'Audio not clear', 'Audio not clear', 'Audio not clear', 'Sweden', 'is a', 'Audio not clear', 'Audio not clear', 'Audio not clear', 'Audio not clear', 'Shahid Kapoor', 'where is the world', 'Audio not clear', 'se is', 'Audio not clear', 'Audio not clear', 'Audio not clear', 'Audio not clear', 'Audio not clear', 'Audio not clear', 'Audio not clear', 'Audio not clear', 'Audio not clear', 'Audio not clear', 'Audio not clear', 'Audio not clear', 'search', 'search', 'Shahid', 'Audio not clear', 'the word search', 'Audio not clear', 'Audio not clear', 'Audio not clear', 'Audio not clear', 'Audio not clear', 'Audio not clear', 'say the words', 'Audio not clear', 'Audio not clear', 'shareit', 'is a word', 'size of words', 'Audio not clear', 'Audio not clear', 'Audio not clear', 'Sahi the word Shah', 'Audio not clear', 'size of word', 'Audio not clear', 'Audio not clear', 'se is Shell', 'the word shall', 'Audio not clear', 'size of word', 'Audio not clear', 'Audio not clear', 'Audio not clear', 'Shahid award show', 'Audio not clear', 'size of short', 'Audio not clear', 'size', 'Audio not clear', 'Audio not clear', 'Audio not clear', 'the verge', 'Audio not clear', 'Audio not clear', 'Audio not clear', 'Audio not clear', 'the verge', 'size of word show', 'Audio not clear', 'Audio not clear', 'sure', 'shareit', 'the verge', 'Audio not clear', 'se is a word', 'Audio not clear', 'shout', 'Shahid Shah', 'Audio not clear', 'se is a workshop', 'Audio not clear', 'Audio not clear', 'Audio not clear', 'sign board size', 'is a', 'Shahid the word size', 'Audio not clear', 'Audio not clear', 'Audio not clear', 'Shahid Kapoor song', 'Audio not clear', 'Audio not clear', 'Audio not clear', 'Audio not clear', 'Audio not clear', 'Audio not clear', 'Audio not clear', 'Audio not clear', 'Audio not clear', 'Audio not clear', 'Audio not clear', 'sweet', 'Audio not clear', 'size of word sour', 'Audio not clear', 'Audio not clear', 'south', 'Audio not clear', 'Audio not clear', 'Audio not clear', 'se is the word south', 'Audio not clear', 'Audio not clear', 'cedarwood song', 'words', 'Audio not clear', 'Audio not clear', 'Audio not clear', 'Audio not clear', 'Audio not clear', 'Audio not clear', 'says the words', 'Audio not clear', 'Audio not clear', 'Audio not clear', 'sweet the word show', 'Audio not clear', 'the verge', 'Audio not clear', 'Audio not clear', 'Audio not clear', 'shareit', 'Audio not clear', 'size of word', 'Audio not clear', 'Audio not clear', 'se is', 'save the world', 'where is a', 'Audio not clear', 'Audio not clear', 'Audio not clear', 'Audio not clear', 'Audio not clear', 'Audio not clear', 'size of word', 'Audio not clear', 'Audio not clear', 'Audio not clear', 'shahidon', 'is the word', 'sahido word', 'Audio not clear', 'Audio not clear', 'Audio not clear', 'Audio not clear', 'Audio not clear', 'Caesar', 'Audio not clear', 'Audio not clear', 'Audio not clear', 'save the word', 'Audio not clear', 'size of word', 'Audio not clear', 'Audio not clear', 'Audio not clear', 'Audio not clear', 'Audio not clear', 'the words', 'Audio not clear', 'Audio not clear', 'Audio not clear', 'cyber word for', 'the words', 'size of word', 'Audio not clear', 'Audio not clear', 'Audio not clear', 'Audio not clear', 'Audio not clear', 'size of word', 'Audio not clear', 'Audio not clear', 'Audio not clear', 'Sweden time', 'Audio not clear', 'Audio not clear', 'Audio not clear', 'Audio not clear', 'Audio not clear', 'Sahi the world', 'Audio not clear', 'Audio not clear', 'Audio not clear', 'Audio not clear', 'Audio not clear', 'Sweden time', 'is the world', 'size of word tire', 'is a', 'Audio not clear', 'han', 'cellular world', 'is the word', 'size of word', 'se', 'Audio not clear', 'Audio not clear', 'redmi Y2', 'when is the world', 'size', 'Audio not clear', 'Audio not clear', 'han', 'shareit', 'is a word', 'Audio not clear', 'Audio not clear', 'Audio not clear', 'Audio not clear', 'try the world', 'is the word', 'Audio not clear', 'Audio not clear', 'Audio not clear', 'Audio not clear', 'try the word by', 'Audio not clear', 'se is a word', 'Audio not clear', 'Audio not clear', 'boys', 'Shahid', 'is the word boys', 'size of boys', 'Audio not clear', 'Audio not clear', 'Audio not clear', 'the word boy', 'where is the word', 'Audio not clear', 'Audio not clear', 'Audio not clear', 'Audio not clear', 'Audio not clear', 'when is the word', 'size of word', 'Audio not clear', 'in the world', 'why', 'Audio not clear', 'Audio not clear', 'size of word', 'Audio not clear', 'Audio not clear', 'Audio not clear', 'study', 'Audio not clear', 'size of World War', 'is a', 'Audio not clear', 'Audio not clear', 'Audio not clear', 'is a word', 'Audio not clear', 'Audio not clear', 'Audio not clear', 'Audio not clear', 'Audio not clear', 'Audio not clear', 'Audio not clear', 'Audio not clear', 'Audio not clear', 'Audio not clear', 'Sweden', 'where is the world', 'se is a word', 'Audio not clear', 'the word', 'Audio not clear', 'the world when', 'where is the world', 'Audio not clear', 'Audio not clear', 'Audio not clear', 'Audio not clear', 'the word which', 'Audio not clear', 'Audio not clear', 'Audio not clear', 'Audio not clear', 'Audio not clear', 'Audio not clear', 'Audio not clear', 'size of word', 'Audio not clear', 'the world', 'Shahid World War I', 'cyber world war', 'Audio not clear', 'Audio not clear', 'say is a verb', 'Audio not clear', 'se', 'Audio not clear', 'Audio not clear', 'Audio not clear', 'Audio not clear', 'Audio not clear', 'Audio not clear', 'Audio not clear', 'Audio not clear', 'Audio not clear', 'Audio not clear', 'Audio not clear', 'wait', 'Audio not clear', 'is the word', 'Audio not clear', 'say is a verb', 'Audio not clear', 'Audio not clear', 'Shahid', 'is the world', 'size of word', 'Audio not clear', 'Audio not clear', 'yes', 'Shahid', 'Audio not clear', 'Audio not clear', 'Audio not clear', 'Audio not clear', 'Audio not clear', 'Audio not clear', 'Audio not clear', 'size of word', 'Audio not clear', 'Audio not clear', 'Audio not clear', 'Audio not clear', 'where is the work', 'se is a word', 'Audio not clear', 'ok bye', 'Audio not clear', 'Audio not clear', 'Sweden', 'is the word', 'size of word', 'main is a word', 'Audio not clear', 'Audio not clear', 'sweet the word', 'Audio not clear', 'Shahid', 'Audio not clear', 'Audio not clear', 'Audio not clear', 'Sahi the word page', 'Audio not clear', 'Audio not clear', 'Audio not clear', 'Audio not clear', 'Audio not clear', 'Shahid', 'is a', 'Audio not clear', 'Audio not clear', 'Audio not clear', 'se', 'shahidon', 'Audio not clear', 'play the word', 'Audio not clear', 'Audio not clear', 'Audio not clear', 'Sahi the word', 'Audio not clear', 'Audio not clear', 'Audio not clear', 'Audio not clear', 'Audio not clear', 'Audio not clear', 'Audio not clear', 'Audio not clear', 'Audio not clear', 'Audio not clear', 'Audio not clear', 'Audio not clear', 'Audio not clear', 'Audio not clear', 'Audio not clear', 'Audio not clear', 'Audio not clear', 'Audio not clear', 'size of word', 'Audio not clear', 'Audio not clear', 'Audio not clear', 'Audio not clear', 'is the word', 'size of word', 'Audio not clear', 'Audio not clear', 'Audio not clear', 'Shahid', 'is a', 'say the word', 'Audio not clear', 'Audio not clear', 'Audio not clear', 'Audio not clear', 'Audio not clear', 'size of word', 'Audio not clear', 'Audio not clear', 'Audio not clear', 'shareit', 'Audio not clear', 'Shahid', 'Audio not clear', 'Audio not clear', 'Audio not clear', 'Audio not clear', 'is the word', 'Audio not clear', 'Audio not clear', 'Audio not clear', 'Audio not clear', 'shareit', 'where is', 'size of word', 'Audio not clear', 'Audio not clear', 'Audio not clear', 'free call', 'Audio not clear', 'size', 'Audio not clear', 'Audio not clear', 'Audio not clear', 'Silver chain', 'Audio not clear', 'se is a word chain', 'Audio not clear', 'Audio not clear', 'Audio not clear', 'Audio not clear', 'Dawood', 'Audio not clear', 'Audio not clear', 'Audio not clear', 'Audio not clear', 'Audio not clear', 'Audio not clear', 'Audio not clear', 'Audio not clear', 'Audio not clear', 'Audio not clear', 'Shahid', 'Audio not clear', 'Audio not clear', 'Audio not clear', 'Audio not clear', 'Audio not clear', 'Audio not clear', 'where is the wood', 'size of word', 'Audio not clear', 'Audio not clear', 'Audio not clear', 'Shahid', 'Audio not clear', 'Audio not clear', 'Audio not clear', 'the word', 'Audio not clear', 'shareit', 'Audio not clear', 'size of word chief', 'Audio not clear', 'Audio not clear', 'Audio not clear', 'Audio not clear', 'Audio not clear', 'Audio not clear', 'Audio not clear', 'Audio not clear', 'Audio not clear', 'shareit', 'is the work', 'Audio not clear', 'Audio not clear', 'Audio not clear', 'Audio not clear', 'Audio not clear', 'is the word', 'Audio not clear', 'Audio not clear', 'Audio not clear', 'Audio not clear', 'Audio not clear', 'where is the word', 'size of world', 'is the word', 'Audio not clear', 'Audio not clear', 'Audio not clear', 'Audio not clear', 'se is a word', 'Audio not clear', 'Audio not clear', 'Audio not clear', 'Audio not clear', 'Audio not clear', 'Audio not clear', 'Audio not clear', 'Audio not clear', 'Audio not clear', 'Audio not clear', 'Audio not clear', 'size of word', 'Audio not clear', 'Audio not clear', 'Audio not clear', 'Shahid Uddin', 'Audio not clear', 'Audio not clear', 'Audio not clear', 'Audio not clear', 'Audio not clear', 'Audio not clear', 'where is the world', 'Audio not clear', 'Audio not clear', 'Audio not clear', 'Audio not clear', 'shareit', 'is the word', 'Shahid', 'Audio not clear', 'Audio not clear', 'Audio not clear', 'the word dot', 'Audio not clear', 'size of word', 'se is a word', 'Audio not clear', 'Audio not clear', 'Sai Baba', 'is the world', 'size of word', 'Audio not clear', 'Audio not clear', 'Audio not clear', 'sorry robot', 'Audio not clear', 'size of world', 'Audio not clear', 'Audio not clear', 'se is', 'Sai Baba', 'Audio not clear', 'Audio not clear', 'Audio not clear', 'Audio not clear', 'Audio not clear', 'Audio not clear', 'Audio not clear', 'Audio not clear', 'is a', 'Audio not clear', 'Audio not clear', 'shareit', 'Audio not clear', 'Audio not clear', 'Audio not clear', 'Audio not clear', 'Audio not clear', 'siren', 'Audio not clear', 'Audio not clear', 'Audio not clear', 'Audio not clear', 'Audio not clear', 'Audio not clear', 'Audio not clear', 'the word', 'Audio not clear', 'Audio not clear', 'Audio not clear', 'Audio not clear', 'Audio not clear', 'size of word', 'Audio not clear', 'Audio not clear', 'chai words', 'Audio not clear', 'Audio not clear', 'size of word file', 'se is a word', 'Shahid', 'Audio not clear', 'Could not request results from Google Speech Recognition service; recognition request failed: Bad Request', 'Audio not clear', 'size of word', 'Audio not clear', 'kya', 'se', 'Sahi the word kya', 'Audio not clear', 'Audio not clear', 'Audio not clear', 'Audio not clear', 'Audio not clear', 'Audio not clear', 'there is a', 'size of word gas', 'Audio not clear', 'Audio not clear', 'Audio not clear', 'save the world', 'Audio not clear', 'Audio not clear', 'Audio not clear', 'Audio not clear', 'Jo', 'Audio not clear', 'Audio not clear', 'size of virgin', 'se is a word', 'Audio not clear', 'Audio not clear', 'Audio not clear', 'where is the world', 'Audio not clear', 'Audio not clear', 'Audio not clear', 'Audio not clear', 'shareit', 'is the word', 'Audio not clear', 'Audio not clear', 'Audio not clear', 'Audio not clear', 'Audio not clear', 'is the word', 'size of word', 'where is', 'Audio not clear', 'se', 'Shahid', 'Audio not clear', 'Audio not clear', 'Audio not clear', 'Audio not clear', 'Audio not clear', 'Audio not clear', 'Audio not clear', 'Audio not clear', 'there is a word', 'Audio not clear', 'se', 'sweet', 'Audio not clear', 'size of word', 'Audio not clear', 'Audio not clear', 'Audio not clear', 'Audio not clear', 'is a', 'Audio not clear', 'Audio not clear', 'the world', 'Audio not clear', 'the word Ho', 'is the world', 'Audio not clear', 'se is', 'Audio not clear', 'Audio not clear', 'save the world has', 'Audio not clear', 'say the world has', 'Audio not clear', 'Audio not clear', 'Audio not clear', 'Audio not clear', 'the word', 'Audio not clear', 'Audio not clear', 'Audio not clear', 'Audio not clear', 'hello', 'where is the', 'size of', 'Audio not clear', 'Audio not clear', 'hay', 'cedarwood hair', 'haze', 'size of word Hale', 'hay hay', 'Audio not clear', 'Audio not clear', 'size of word hai', 'Audio not clear', 'Shahid hai', 'Audio not clear', 'Audio not clear', 'Audio not clear', 'the word here', 'is a', 'world hair', 'Audio not clear', 'Audio not clear', 'Audio not clear', 'Audio not clear', 'Audio not clear', 'size of Ho', 'Audio not clear', 'the world', 'home', 'shareit', 'Audio not clear', 'the word home', 'Audio not clear', 'Audio not clear', 'Audio not clear', 'Audio not clear', 'Audio not clear', 'size of word', 'Audio not clear', 'Audio not clear', 'Harsh', 'Audio not clear', 'Nahin', 'Audio not clear', 'Audio not clear', 'Audio not clear', 'Audio not clear', 'shareit', 'Audio not clear', 'Audio not clear', 'Audio not clear', 'Audio not clear', 'se is', 'Shahid', 'Audio not clear', 'size of word', 'Audio not clear', 'Audio not clear', 'Audio not clear', 'Audio not clear', 'Audio not clear', 'Audio not clear', 'Audio not clear', 'Audio not clear', 'Audio not clear', 'Audio not clear', 'is the word', 'Audio not clear', 'Audio not clear', 'Audio not clear', 'Audio not clear', 'Audio not clear', 'Audio not clear', 'say the word jug', 'Audio not clear', 'Audio not clear', 'Audio not clear', 'Audio not clear', 'is the world', 'Audio not clear', 'Audio not clear', 'Audio not clear', 'Audio not clear', 'Sweden', 'Audio not clear', 'Audio not clear', 'Audio not clear', 'Audio not clear', 'Audio not clear', 'Sahi the world', 'Audio not clear', 'Audio not clear', 'Audio not clear', 'Audio not clear', 'Audio not clear', 'Audio not clear', 'Audio not clear', 'size of work', 'where is the word', 'Audio not clear', '6', 'Audio not clear', 'where is the word', 'Audio not clear', 'se is', 'Audio not clear', 'share', 'Audio not clear', 'where is a', 'size of work', 'is the word', 'Audio not clear', 'se is', 'Audio not clear', 'Audio not clear', 'Audio not clear', 'Audio not clear', 'size of word', 'Audio not clear', 'Audio not clear', 'where is a work', 'sirf', 'Audio not clear', 'the world', 'se is a word', 'Sahi', 'Audio not clear', 'Audio not clear', 'Audio not clear', 'Audio not clear', 'Audio not clear', 'street light', 'Xavier', 'Audio not clear', 'Audio not clear', 'Sahi the word', 'Audio not clear', 'Sahiba', 'Audio not clear', 'Audio not clear', 'Audio not clear', 'Audio not clear', 'Audio not clear', 'Audio not clear', 'where is the', 'size of word', 'se is a word', 'Audio not clear', 'Audio not clear', 'Audio not clear', 'the world', 'Audio not clear', 'Audio not clear', 'Audio not clear', 'Audio not clear', 'Audio not clear', 'Audio not clear', 'Audio not clear', 'Audio not clear', 'Audio not clear', 'Audio not clear', 'Audio not clear', 'Audio not clear', 'Audio not clear', 'is the word', 'Audio not clear', 'Audio not clear', 'wife', 'is the', 'Audio not clear', 'Audio not clear', 'Audio not clear', 'Audio not clear', 'Audio not clear', 'Audio not clear', 'Audio not clear', 'se', 'Audio not clear', 'Audio not clear', 'Audio not clear', 'is the world', 'size of liver', 'se', 'Audio not clear', 'Audio not clear', 'Audio not clear', 'is the word', 'size of word', 'se', 'Audio not clear', 'Audio not clear', 'Sai Baba', 'the word', 'Audio not clear', 'Audio not clear', 'Audio not clear', 'Audio not clear', 'shahidon', 'Audio not clear', 'say the word', 'where is the word', 'Audio not clear', 'world', 'sweet', 'Audio not clear', 'Audio not clear', 'say the word', 'Audio not clear', 'size of word', 'Swimming world', 'is a word', 'Shahid', 'word', 'Audio not clear', 'Audio not clear', 'Audio not clear', 'is a word', 'size of word', 'Audio not clear', 'Audio not clear', 'Audio not clear', 'try the world', 'where is the world', 'se is a word', 'Audio not clear', 'Audio not clear', 'size', 'cedarwood', 'is the world', 'Audio not clear', 'Audio not clear', 'Audio not clear', 'Audio not clear', 'cyber world match', 'Dawood', 'Audio not clear', 'Audio not clear', 'Audio not clear', 'Audio not clear', 'the word', 'Audio not clear', 'size of word', 'Audio not clear', 'Audio not clear', 'Jay is a mess', 'cyber world map', 'where is the world', 'size of word mess', 'Audio not clear', 'in the world', 'se is a word', 'world map', 'Audio not clear', 'Audio not clear', 'Audio not clear', 'Audio not clear', 'Audio not clear', 'the word new', 'where is the', 'Audio not clear', 'there is a', 'Sahi the word', 'Audio not clear', 'see the world map', 'is the word', 'Audio not clear', 'Audio not clear', 'Audio not clear', 'Audio not clear', 'the word movie', 'Audio not clear', 'the world', 'Audio not clear', 'Audio not clear', 'Audio not clear', 'Audio not clear', 'where is the word', 'se is a word', 'say is a verb', 'Audio not clear', 'play is', 'Audio not clear', 'Audio not clear', 'say the word', 'Audio not clear', 'Audio not clear', 'Audio not clear', 'Sarita Verma', 'where is the work', 'size of word', 'Audio not clear', 'Audio not clear', 'Audio not clear', 'Mouse', 'Audio not clear', 'size of', 'Audio not clear', 'Audio not clear', 'Audio not clear', 'Shahid good night', 'Audio not clear', 'say the word', 'Audio not clear', 'the word', 'Audio not clear', 'Audio not clear', 'Audio not clear', 'size of bird name', 'Audio not clear', 'Audio not clear', 'Audio not clear', 'Sweden', 'where is the', 'Audio not clear', 'Audio not clear', 'Audio not clear', 'Audio not clear', 'Audio not clear', 'Audio not clear', 'Audio not clear', 'Audio not clear', 'Audio not clear', 'noise', 'Audio not clear', 'Audio not clear', 'Audio not clear', 'Audio not clear', 'the world', 'Audio not clear', \"sorry I don't know\", 'where is the word no', 'Audio not clear', 'is the word', 'Audio not clear', 'Audio not clear', 'study the word', 'is the word', 'Sajan', 'Audio not clear', 'Audio not clear', 'Audio not clear', 'free the world', 'Audio not clear', 'say the word', 'Audio not clear', 'Audio not clear', 'Audio not clear', 'Audio not clear', 'hage', 'size of word', 'Audio not clear', 'the word', 'Audio not clear', 'sorry the word', 'where is the', 'size', 'Audio not clear', 'Audio not clear', 'Audio not clear', 'sweet the word', 'is the word', 'se is a word', 'Audio not clear', 'Audio not clear', 'se is', 'cyber world', 'where is the', 'Audio not clear', 'Audio not clear', 'say the word', 'Shahid hey', 'Audio not clear', 'where is a way', 'Audio not clear', 'Audio not clear', 'Audio not clear', 'Audio not clear', 'Audio not clear', 'is the word', 'Audio not clear', 'is the', 'Audio not clear', 'Audio not clear', 'Sahi the word phone', 'where is the word', 'Audio not clear', 'Audio not clear', 'Audio not clear', 'Audio not clear', 'the word', 'Audio not clear', 'Audio not clear', 'Audio not clear', 'Audio not clear', 'Audio not clear', 'sweet the word', 'is the world', 'size of world', 'Audio not clear', 'Audio not clear', 'Audio not clear', 'shareit', 'is the word', 'Audio not clear', 'Audio not clear', 'Audio not clear', 'Audio not clear', 'Shahid Kapoor', 'Audio not clear', 'size of word', 'Audio not clear', 'Audio not clear', 'han', 'shareit', 'Audio not clear', 'Audio not clear', 'Audio not clear', 'Audio not clear', 'Audio not clear', 'Audio not clear', 'where is', 'Audio not clear', 'Audio not clear', 'Audio not clear', 'se', 'shareit', 'Audio not clear', 'Audio not clear', 'where is', 'Audio not clear', 'Audio not clear', 'the world', 'Dawood', 'wordbrain', 'Audio not clear', 'Audio not clear', 'Audio not clear', 'the world race', 'is the world', 'size of world', 'Audio not clear', 'Audio not clear', 'Audio not clear', 'shareit', 'Audio not clear', 'Audio not clear', 'when is the world', 'Audio not clear', 'Audio not clear', 'cyber week', 'Audio not clear', 'the world', 'Audio not clear', 'in the world', 'Audio not clear', 'Audio not clear', 'Audio not clear', 'save the world', 'Audio not clear', 'Shahid', 'Sohail', 'Audio not clear', 'Audio not clear', 'size of world', 'is the', 'Audio not clear', 'Audio not clear', 'Shahid Kapoor', 'when is the world', 'Audio not clear', 'Audio not clear', 'Audio not clear', 'Audio not clear', 'Audio not clear', 'Audio not clear', 'Audio not clear', 'Audio not clear', 'Audio not clear', 'Audio not clear', 'Road', 'Audio not clear', 'size of World War II', 'Audio not clear', 'Audio not clear', 'Audio not clear', 'Sharif', 'Audio not clear', 'size of', 'is a', 'Audio not clear', 'Audio not clear', 'Audio not clear', 'is the world', 'the world Browser', 'Audio not clear', 'Audio not clear', 'Audio not clear', 'Audio not clear', 'Mizo version', 'Audio not clear', 'Audio not clear', 'Audio not clear', 'Audio not clear', 'Sweden', 'is a', 'Audio not clear', 'Audio not clear', 'Audio not clear', 'Audio not clear', 'Shahid Kapoor', 'where is the world', 'Audio not clear', 'se is', 'Audio not clear', 'Audio not clear', 'Audio not clear', 'Audio not clear', 'Audio not clear', 'Audio not clear', 'Audio not clear', 'Audio not clear', 'Audio not clear', 'Audio not clear', 'Audio not clear', 'Audio not clear', 'search', 'search', 'Shahid', 'Audio not clear', 'the word search', 'Audio not clear', 'Audio not clear', 'Audio not clear', 'Audio not clear', 'Audio not clear', 'Audio not clear', 'say the words', 'Audio not clear', 'Audio not clear', 'shareit', 'is a word', 'size of words', 'Audio not clear', 'Audio not clear', 'Audio not clear', 'Sahi the word Shah', 'Audio not clear', 'size of word', 'Audio not clear', 'Audio not clear', 'se is Shell', 'the word shall', 'Audio not clear', 'size of word', 'Audio not clear', 'Audio not clear', 'Audio not clear', 'Shahid award show', 'Audio not clear', 'size of short', 'Audio not clear', 'size', 'Audio not clear', 'Audio not clear', 'Audio not clear', 'the verge', 'Audio not clear', 'Audio not clear', 'Audio not clear', 'Audio not clear', 'the verge', 'size of word show', 'Audio not clear', 'Audio not clear', 'sure', 'shareit', 'the verge', 'Audio not clear', 'se is a word', 'Audio not clear', 'shout', 'Shahid Shah', 'Audio not clear', 'se is a workshop', 'Audio not clear', 'Audio not clear', 'Audio not clear', 'sign board size', 'is a', 'Shahid the word size', 'Audio not clear', 'Audio not clear', 'Audio not clear', 'Shahid Kapoor song', 'Audio not clear', 'Audio not clear', 'Audio not clear', 'Audio not clear', 'Audio not clear', 'Audio not clear', 'Audio not clear', 'Audio not clear', 'Audio not clear', 'Audio not clear', 'Audio not clear', 'sweet', 'Audio not clear', 'size of words', 'Audio not clear', 'Audio not clear', 'south', 'Audio not clear', 'Audio not clear', 'Audio not clear', 'se is the word south', 'Audio not clear', 'Audio not clear', 'cedarwood song', 'words', 'Audio not clear', 'Audio not clear', 'Audio not clear', 'Audio not clear', 'Audio not clear', 'Audio not clear', 'says the words', 'Audio not clear', 'Audio not clear', 'Audio not clear', 'sweet the word show', 'Audio not clear', 'the verge', 'Audio not clear', 'Audio not clear', 'Audio not clear', 'shareit', 'Audio not clear', 'size of word', 'Audio not clear', 'Audio not clear', 'se is', 'save the world', 'where is a', 'Audio not clear', 'Audio not clear', 'Audio not clear', 'Audio not clear', 'Audio not clear', 'Audio not clear', 'size of word', 'Audio not clear', 'Audio not clear', 'Audio not clear', 'shahidon', 'is the word', 'sahido word', 'Audio not clear', 'Audio not clear', 'Audio not clear', 'Audio not clear', 'Audio not clear', 'Caesar', 'Audio not clear', 'Audio not clear', 'Audio not clear', 'save the word', 'Audio not clear', 'size of word', 'Audio not clear', 'Audio not clear', 'Audio not clear', 'Audio not clear', 'Audio not clear', 'the words', 'is a', 'Audio not clear', 'Audio not clear', 'cyber word for', 'the words', 'size of word', 'Audio not clear', 'Audio not clear', 'Audio not clear', 'Audio not clear', 'Audio not clear', 'size of word', 'Audio not clear', 'Audio not clear', 'Audio not clear', 'Sweden time', 'Audio not clear', 'Audio not clear', 'Audio not clear', 'Audio not clear', 'Audio not clear', 'Sahi the world', 'Audio not clear', 'Audio not clear', 'Audio not clear', 'Audio not clear', 'Audio not clear', 'Sweden time', 'is the world', 'size of word tire', 'is a', 'Audio not clear', 'han', 'cellular world', 'is the word', 'size of word', 'se', 'Audio not clear', 'Audio not clear', 'redmi Y2', 'when is the world', 'size', 'Audio not clear', 'Audio not clear', 'han', 'shareit', 'is a word', 'Audio not clear', 'Audio not clear', 'Audio not clear', 'Audio not clear', 'try the world', 'is the word', 'Audio not clear', 'Audio not clear', 'Audio not clear', 'Audio not clear', 'try the word by', 'Audio not clear', 'se is a word', 'Audio not clear', 'Audio not clear', 'boys', 'Shahid', 'is the word boys', 'size of boys', 'Audio not clear', 'Audio not clear', 'Audio not clear', 'the word boy', 'where is the word', 'Audio not clear', 'Audio not clear', 'Audio not clear', 'Audio not clear', 'Audio not clear', 'when is the word', 'size of word', 'Audio not clear', 'in the world', 'why', 'Audio not clear', 'Audio not clear', 'size of word', 'Audio not clear', 'Audio not clear', 'Audio not clear', 'study', 'Audio not clear', 'size of World War', 'is a', 'Audio not clear', 'Audio not clear', 'Audio not clear', 'is a word', 'Audio not clear', 'Audio not clear', 'Audio not clear', 'Audio not clear', 'Audio not clear', 'Audio not clear', 'Audio not clear', 'Audio not clear', 'Audio not clear', 'Audio not clear', 'Sweden', 'where is the world', 'se is a word', 'Audio not clear', 'the word', 'Audio not clear', 'the world when', 'where is the world', 'Audio not clear', 'Audio not clear', 'Audio not clear', 'Audio not clear', 'the word which', 'Audio not clear', 'Audio not clear', 'Audio not clear', 'Audio not clear', 'Audio not clear', 'Audio not clear', 'Audio not clear', 'size of word', 'Audio not clear', 'the world', 'Shahid World War I', 'cyber world war', 'Audio not clear', 'Audio not clear', 'say is a verb', 'Audio not clear', 'se', 'Audio not clear', 'Audio not clear', 'Audio not clear', 'Audio not clear', 'Audio not clear', 'Audio not clear', 'Audio not clear', 'Audio not clear', 'Audio not clear', 'Audio not clear', 'Audio not clear', 'wait', 'Audio not clear', 'is the word', 'Audio not clear', 'say is a verb', 'Audio not clear', 'Audio not clear', 'Shahid', 'is the world', 'size of word', 'Audio not clear', 'Audio not clear', 'yes', 'Shahid', 'Audio not clear', 'Audio not clear', 'Audio not clear', 'Audio not clear', 'Audio not clear', 'Audio not clear', 'Audio not clear', 'size of word', 'Audio not clear', 'Audio not clear', 'Audio not clear', 'Audio not clear', 'where is the work', 'se is a word', 'Audio not clear', 'ok bye', 'Audio not clear', 'Audio not clear', 'Sweden', 'is the word', 'size of word', 'main is a word', 'Audio not clear', 'Audio not clear', 'sweet the word', 'Audio not clear', 'Shahid', 'Audio not clear', 'Audio not clear', 'Audio not clear', 'Sahi the word page', 'Audio not clear', 'Audio not clear', 'Audio not clear', 'Audio not clear', 'Audio not clear', 'Shahid', 'is a', 'Audio not clear', 'Audio not clear', 'Audio not clear', 'se', 'shahidon', 'Audio not clear', 'play the word', 'Audio not clear', 'Audio not clear', 'Audio not clear', 'Sahi the word', 'Audio not clear', 'Audio not clear', 'Audio not clear', 'Audio not clear', 'Audio not clear', 'Audio not clear', 'Audio not clear', 'Audio not clear', 'Audio not clear', 'Audio not clear', 'Audio not clear', 'Audio not clear', 'Audio not clear', 'Audio not clear', 'Audio not clear', 'Audio not clear', 'Audio not clear', 'Audio not clear', 'size of word', 'Audio not clear', 'Audio not clear', 'Audio not clear', 'Audio not clear', 'is the word', 'size of word', 'Audio not clear', 'Audio not clear', 'Audio not clear', 'Shahid', 'is a', 'say the word', 'Audio not clear', 'Audio not clear', 'Audio not clear', 'Audio not clear', 'Audio not clear', 'says the word birth', 'Audio not clear', 'Audio not clear', 'Audio not clear', 'shareit', 'Audio not clear', 'Shahid', 'Audio not clear', 'Audio not clear', 'Audio not clear', 'Audio not clear', 'is the word', 'Audio not clear', 'Audio not clear', 'Audio not clear', 'Audio not clear', 'shareit', 'where is', 'size of word', 'Audio not clear', 'Audio not clear', 'Audio not clear', 'free call', 'Audio not clear', 'size', 'Audio not clear', 'Audio not clear', 'Audio not clear', 'Silver chain', 'Audio not clear', 'se is a word chain', 'Audio not clear', 'Audio not clear', 'Audio not clear', 'Audio not clear', 'Dawood', 'Audio not clear', 'Audio not clear', 'Audio not clear', 'Audio not clear', 'Audio not clear', 'Audio not clear', 'Audio not clear', 'Audio not clear', 'Audio not clear', 'Audio not clear', 'Shahid', 'Audio not clear', 'Audio not clear', 'Audio not clear', 'Audio not clear', 'Audio not clear', 'Audio not clear', 'where is the wood', 'size of word', 'Audio not clear', 'Audio not clear', 'Audio not clear', 'Shahid', 'Audio not clear', 'Audio not clear', 'Audio not clear', 'the word', 'Audio not clear', 'shareit', 'Audio not clear', 'size of word chief', 'Audio not clear', 'Audio not clear', 'Audio not clear', 'Audio not clear', 'Audio not clear', 'Audio not clear', 'Audio not clear', 'Audio not clear', 'Audio not clear', 'shareit', 'is the work', 'Audio not clear', 'Audio not clear', 'Audio not clear', 'Audio not clear', 'Audio not clear', 'is the word', 'Audio not clear', 'Audio not clear', 'Audio not clear', 'Audio not clear', 'Audio not clear', 'where is the word', 'size of world', 'is the word', 'Audio not clear', 'Audio not clear', 'Audio not clear', 'Audio not clear', 'se is a word', 'Audio not clear', 'Audio not clear', 'Audio not clear', 'Audio not clear', 'Audio not clear', 'Audio not clear', 'Audio not clear', 'Audio not clear', 'Audio not clear', 'Audio not clear', 'Audio not clear', 'size of word', 'Audio not clear', 'Audio not clear', 'Audio not clear', 'Shahid Uddin', 'Audio not clear', 'Audio not clear', 'Audio not clear', 'Audio not clear', 'Audio not clear', 'Audio not clear', 'where is the world', 'Audio not clear', 'Audio not clear', 'Audio not clear', 'Audio not clear', 'shareit', 'is the word', 'Shahid', 'Audio not clear', 'Audio not clear', 'Audio not clear', 'the word dot', 'Audio not clear', 'size of word', 'se is a word', 'Audio not clear', 'Audio not clear', 'Sai Baba', 'is the world', 'size of word', 'Audio not clear', 'Audio not clear', 'Audio not clear', 'sorry robot', 'Audio not clear', 'size of world', 'Audio not clear', 'Audio not clear', 'se is', 'Sai Baba', 'Audio not clear', 'Audio not clear', 'Audio not clear', 'Audio not clear', 'Audio not clear', 'Audio not clear', 'Audio not clear', 'Audio not clear', 'is a', 'Audio not clear', 'Audio not clear', 'shareit', 'Audio not clear', 'Audio not clear', 'Audio not clear', 'Audio not clear', 'Audio not clear', 'siren', 'Audio not clear', 'Audio not clear', 'Audio not clear', 'Audio not clear', 'Audio not clear', 'Audio not clear', 'Audio not clear', 'the word', 'Audio not clear', 'Audio not clear', 'Audio not clear', 'Audio not clear', 'Audio not clear', 'size of word', 'Audio not clear', 'Audio not clear', 'chai words', 'Audio not clear', 'Audio not clear', 'size of word file', 'se is a word', 'Shahid', 'Audio not clear', 'Could not request results from Google Speech Recognition service; recognition request failed: Bad Request', 'Audio not clear', 'size of word', 'Audio not clear', 'kya', 'se', 'Sahi the word kya', 'Audio not clear', 'Audio not clear', 'Audio not clear', 'Audio not clear', 'Audio not clear', 'Audio not clear', 'there is a', 'size of word gas', 'Audio not clear', 'Audio not clear', 'Audio not clear', 'save the world', 'Audio not clear', 'Audio not clear', 'Audio not clear', 'Audio not clear', 'Jo', 'Audio not clear', 'Audio not clear', 'size of virgin', 'se is a word', 'Audio not clear', 'Audio not clear', 'Audio not clear', 'where is the world', 'Audio not clear', 'Audio not clear', 'Audio not clear', 'Audio not clear', 'shareit', 'is the word', 'Audio not clear', 'Audio not clear', 'Audio not clear', 'Audio not clear', 'Audio not clear', 'is the word', 'size of word', 'where is', 'Audio not clear', 'se', 'Shahid', 'Audio not clear', 'Audio not clear', 'Audio not clear', 'Audio not clear', 'Audio not clear', 'Audio not clear', 'Audio not clear', 'Audio not clear', 'there is a word', 'Audio not clear', 'se', 'sweet', 'Audio not clear', 'size of word', 'Audio not clear', 'Audio not clear', 'Audio not clear', 'Audio not clear', 'is a', 'Audio not clear', 'Audio not clear', 'the world', 'Audio not clear', 'the word Ho', 'is the world', 'Audio not clear', 'se is', 'Audio not clear', 'Audio not clear', 'save the world has', 'Audio not clear', 'say the world has', 'Audio not clear', 'Audio not clear', 'Audio not clear', 'Audio not clear', 'the word', 'Audio not clear', 'Audio not clear', 'Audio not clear', 'Audio not clear', 'hello', 'where is the', 'size of', 'Audio not clear', 'Audio not clear', 'hay', 'cedarwood hair', 'haze', 'size of word Hale', 'hay hay', 'Audio not clear', 'Audio not clear', 'size of word hai', 'Audio not clear', 'Shahid hai', 'Audio not clear', 'Audio not clear', 'Audio not clear', 'the word here', 'is a', 'world hair', 'Audio not clear', 'Audio not clear', 'Audio not clear', 'Audio not clear', 'Audio not clear', 'size of Ho', 'Audio not clear', 'the world', 'home', 'shareit', 'Audio not clear', 'the word home', 'Audio not clear', 'Audio not clear', 'Audio not clear', 'Audio not clear', 'Audio not clear', 'size of word', 'Audio not clear', 'Audio not clear', 'Harsh', 'Audio not clear', 'Nahin', 'Audio not clear', 'Audio not clear', 'Audio not clear', 'Audio not clear', 'shareit', 'Audio not clear', 'Audio not clear', 'Audio not clear', 'Audio not clear', 'se is', 'Shahid', 'Audio not clear', 'size of word', 'Audio not clear', 'Audio not clear', 'Audio not clear', 'Audio not clear', 'Audio not clear', 'Audio not clear', 'Audio not clear', 'Audio not clear', 'Audio not clear', 'Audio not clear', 'is the word', 'Audio not clear', 'Audio not clear', 'Audio not clear', 'Audio not clear', 'Audio not clear', 'Audio not clear', 'say the word jug', 'Audio not clear', 'Audio not clear', 'Audio not clear', 'Audio not clear', 'is the world', 'Audio not clear', 'Audio not clear', 'Audio not clear', 'Audio not clear', 'Sweden', 'Audio not clear', 'Audio not clear', 'Audio not clear', 'Audio not clear', 'Audio not clear', 'Sahi the world', 'Audio not clear', 'Audio not clear', 'Audio not clear', 'Audio not clear', 'Audio not clear', 'Audio not clear', 'Audio not clear', 'size of work', 'where is the word', 'Audio not clear', '6', 'Audio not clear', 'where is the word', 'Audio not clear', 'se is', 'Audio not clear', 'share', 'Audio not clear', 'where is a', 'size of work', 'is the word', 'Audio not clear', 'se is', 'Audio not clear', 'Audio not clear', 'Audio not clear', 'Audio not clear', 'size of word', 'Audio not clear', 'Audio not clear', 'where is a work', 'sirf', 'Audio not clear', 'the world', 'se is a word', 'Sahi', 'Audio not clear', 'Audio not clear', 'Audio not clear', 'Audio not clear', 'Audio not clear', 'street light', 'Xavier', 'Audio not clear', 'Audio not clear', 'Sahi the word', 'Audio not clear', 'Sahiba', 'Audio not clear', 'Audio not clear', 'Audio not clear', 'Audio not clear', 'Audio not clear', 'Audio not clear', 'where is the', 'size of word', 'se is a word', 'Audio not clear', 'Audio not clear', 'Audio not clear', 'the world', 'Audio not clear', 'Audio not clear', 'Audio not clear', 'Audio not clear', 'Audio not clear', 'Audio not clear', 'Audio not clear', 'Audio not clear', 'Audio not clear', 'Audio not clear', 'Audio not clear', 'Audio not clear', 'Audio not clear', 'is the word', 'Audio not clear', 'Audio not clear', 'wife', 'is the', 'Audio not clear', 'Audio not clear', 'Audio not clear', 'Audio not clear', 'Audio not clear', 'Audio not clear', 'Audio not clear', 'se', 'Audio not clear', 'Audio not clear', 'Audio not clear', 'is the world', 'size of liver', 'se', 'Audio not clear', 'Audio not clear', 'Audio not clear', 'is the word', 'size of word', 'se', 'Audio not clear', 'Audio not clear', 'Sai Baba', 'the word', 'Audio not clear', 'Audio not clear', 'Audio not clear', 'Audio not clear', 'shahidon', 'Audio not clear', 'say the word', 'where is the word', 'Audio not clear', 'world', 'sweet', 'Audio not clear', 'Audio not clear', 'say the word', 'Audio not clear', 'size of word', 'Swimming world', 'is a word', 'Shahid', 'word', 'Audio not clear', 'Audio not clear', 'Audio not clear', 'is a word', 'size of word', 'Audio not clear', 'Audio not clear', 'Audio not clear', 'try the world', 'where is the world', 'se is a word', 'Audio not clear', 'Audio not clear', 'size', 'cedarwood', 'is the world', 'Audio not clear', 'Audio not clear', 'Audio not clear', 'Audio not clear', 'cyber world match', 'Dawood', 'Audio not clear', 'Audio not clear', 'Audio not clear', 'Audio not clear', 'the word', 'Audio not clear', 'size of word', 'Audio not clear', 'Audio not clear', 'Jay is a mess', 'cyber world map', 'where is the world', 'size of word mess', 'Audio not clear', 'in the world', 'se is a word', 'world map', 'Audio not clear', 'Audio not clear', 'Audio not clear', 'Audio not clear', 'Audio not clear', 'the word new', 'where is the', 'Audio not clear', 'there is a', 'Sahi the word', 'Audio not clear', 'see the world map', 'is the word', 'Audio not clear', 'Audio not clear', 'Audio not clear', 'Audio not clear', 'the word movie', 'Audio not clear', 'the world', 'Audio not clear', 'Audio not clear', 'Audio not clear', 'Audio not clear', 'where is the word', 'se is a word', 'say is a verb', 'Audio not clear', 'play is', 'Audio not clear', 'Audio not clear', 'say the word', 'Audio not clear', 'Audio not clear', 'Audio not clear', 'Sarita Verma', 'where is the work', 'size of word', 'Audio not clear', 'Audio not clear', 'Audio not clear', 'Mouse', 'Audio not clear', 'size of', 'Audio not clear', 'Audio not clear', 'Audio not clear', 'Shahid good night', 'Audio not clear', 'say the word', 'Audio not clear', 'the word', 'Audio not clear', 'Audio not clear', 'Audio not clear', 'size of bird name', 'Audio not clear', 'Audio not clear', 'Audio not clear', 'Sweden', 'where is the', 'Audio not clear', 'Audio not clear', 'Audio not clear', 'Audio not clear', 'Audio not clear', 'Audio not clear', 'Audio not clear', 'Audio not clear', 'Audio not clear', 'noise', 'Audio not clear', 'Audio not clear', 'Audio not clear', 'Audio not clear', 'the world', 'Audio not clear', \"sorry I don't know\", 'where is the word no', 'Audio not clear', 'is the word', 'Audio not clear', 'Audio not clear', 'study the word', 'is the word', 'Sajan', 'Audio not clear', 'Audio not clear', 'Audio not clear', 'free the world', 'Audio not clear', 'say the word', 'Audio not clear', 'Audio not clear', 'Audio not clear', 'Audio not clear', 'hage', 'size of word', 'Audio not clear', 'the word', 'Audio not clear', 'sorry the word', 'where is the', 'size', 'Audio not clear', 'Audio not clear', 'Audio not clear', 'sweet the word', 'is the word', 'se is a word', 'Audio not clear', 'Audio not clear', 'se is', 'cyber world', 'where is the', 'Audio not clear', 'Audio not clear', 'say the word', 'Shahid hey', 'Audio not clear', 'where is a way', 'Audio not clear', 'Audio not clear', 'Audio not clear', 'Audio not clear', 'Audio not clear', 'is the word', 'Audio not clear', 'is the', 'Audio not clear', 'Audio not clear', 'Sahi the word phone', 'where is the word', 'Audio not clear', 'Audio not clear', 'Audio not clear', 'Audio not clear', 'the word', 'Audio not clear', 'Audio not clear', 'Audio not clear', 'Audio not clear', 'Audio not clear', 'sweet the word', 'is the world', 'size of world', 'Audio not clear', 'Audio not clear', 'Audio not clear', 'shareit', 'is the word', 'Audio not clear', 'Audio not clear', 'Audio not clear', 'Audio not clear', 'Shahid Kapoor', 'Audio not clear', 'size of word', 'Audio not clear', 'Audio not clear', 'han', 'shareit', 'Audio not clear', 'Audio not clear', 'Audio not clear', 'Audio not clear', 'Audio not clear', 'Audio not clear', 'where is', 'Audio not clear', 'Audio not clear', 'Audio not clear', 'se', 'shareit', 'Audio not clear', 'Audio not clear', 'where is', 'Audio not clear', 'Audio not clear', 'the world', 'Dawood', 'wordbrain', 'Audio not clear', 'Audio not clear', 'Audio not clear', 'the world race', 'is the world', 'size of world', 'Audio not clear', 'Audio not clear', 'Audio not clear', 'shareit', 'Audio not clear', 'Audio not clear', 'when is the world', 'Audio not clear', 'Audio not clear', 'cyber week', 'Audio not clear', 'the world', 'Audio not clear', 'in the world', 'Audio not clear', 'Audio not clear', 'Audio not clear', 'save the world', 'Audio not clear', 'Shahid', 'Sohail', 'Audio not clear', 'Audio not clear', 'size of world', 'is the', 'Audio not clear', 'Audio not clear', 'Shahid Kapoor', 'when is the world', 'Audio not clear', 'Audio not clear', 'Audio not clear', 'Audio not clear', 'Audio not clear', 'Audio not clear', 'Audio not clear', 'Audio not clear', 'Audio not clear', 'Audio not clear', 'Road', 'Audio not clear', 'size of World War II', 'Audio not clear', 'Audio not clear', 'Audio not clear', 'Sharif', 'Audio not clear', 'size of', 'is a', 'Audio not clear', 'Audio not clear', 'Audio not clear', 'is the world', 'the world Browser', 'Audio not clear', 'Audio not clear', 'Audio not clear', 'Audio not clear', 'Mizo version', 'Audio not clear', 'Audio not clear', 'Audio not clear', 'Audio not clear', 'Sweden', 'is a', 'Audio not clear', 'Audio not clear', 'Audio not clear', 'Audio not clear', 'Shahid Kapoor', 'where is the world', 'Audio not clear', 'se is', 'Audio not clear', 'Audio not clear', 'Audio not clear', 'Audio not clear', 'Audio not clear', 'Audio not clear', 'Audio not clear', 'Audio not clear', 'Audio not clear', 'Audio not clear', 'Audio not clear', 'Audio not clear', 'search', 'search', 'Shahid', 'Audio not clear', 'the word search', 'Audio not clear', 'Audio not clear', 'Audio not clear', 'Audio not clear', 'Audio not clear', 'Audio not clear', 'say the words', 'Audio not clear', 'Audio not clear', 'shareit', 'is a word', 'size of words', 'Audio not clear', 'Audio not clear', 'Audio not clear', 'Sahi the word Shah', 'Audio not clear', 'size of word', 'Audio not clear', 'Audio not clear', 'se is Shell', 'the word shall', 'Audio not clear', 'size of word', 'Audio not clear', 'Audio not clear', 'Audio not clear', 'Shahid award show', 'Audio not clear', 'size of short', 'Audio not clear', 'size', 'Audio not clear', 'Audio not clear', 'Audio not clear', 'the verge', 'Audio not clear', 'Audio not clear', 'Audio not clear', 'Audio not clear', 'the verge', 'size of word show', 'Audio not clear', 'Audio not clear', 'sure', 'shareit', 'the verge', 'Audio not clear', 'se is a word', 'Audio not clear', 'shout', 'Shahid Shah', 'Audio not clear', 'se is a workshop', 'Audio not clear', 'Audio not clear', 'Audio not clear', 'sign board size', 'is a', 'Shahid the word size', 'Audio not clear', 'Audio not clear', 'Audio not clear', 'Shahid Kapoor song', 'Audio not clear', 'Audio not clear', 'Audio not clear', 'Audio not clear', 'Audio not clear', 'Audio not clear', 'Audio not clear', 'Audio not clear', 'Audio not clear', 'Audio not clear', 'Audio not clear', 'sweet', 'Audio not clear', 'size of words', 'Audio not clear', 'Audio not clear', 'south', 'Audio not clear', 'Audio not clear', 'Audio not clear', 'se is the word south', 'Audio not clear', 'Audio not clear', 'cedarwood song', 'words', 'Audio not clear', 'Audio not clear', 'Audio not clear', 'Audio not clear', 'Audio not clear', 'Audio not clear', 'says the words', 'Audio not clear', 'Audio not clear', 'Audio not clear', 'sweet the word show', 'Audio not clear', 'the verge', 'Audio not clear', 'Audio not clear', 'Audio not clear', 'shareit', 'Audio not clear', 'size of word', 'Audio not clear', 'Audio not clear', 'se is', 'save the world', 'where is a', 'Audio not clear', 'Audio not clear', 'Audio not clear', 'Audio not clear', 'Audio not clear', 'Audio not clear', 'size of word', 'Audio not clear', 'Audio not clear', 'Audio not clear', 'shahidon', 'is the word', 'sahido word', 'Audio not clear', 'Audio not clear', 'Audio not clear', 'Audio not clear', 'Audio not clear', 'Caesar', 'Audio not clear', 'Audio not clear', 'Audio not clear', 'save the word', 'Audio not clear', 'size of word', 'Audio not clear', 'Audio not clear', 'Audio not clear', 'Audio not clear', 'Audio not clear', 'the words', 'Audio not clear', 'Audio not clear', 'Audio not clear', 'cyber word for', 'the words', 'size of word', 'Audio not clear', 'Audio not clear', 'Audio not clear', 'Audio not clear', 'Audio not clear', 'size of word', 'Audio not clear', 'Audio not clear', 'Audio not clear', 'Sweden time', 'Audio not clear', 'Audio not clear', 'Audio not clear', 'Audio not clear', 'Audio not clear', 'Sahi the world', 'Audio not clear', 'Audio not clear', 'Audio not clear', 'Audio not clear', 'Audio not clear', 'Sweden time', 'is the world', 'size of word tire', 'is a', 'Audio not clear', 'han', 'cellular world', 'is the word', 'size of word', 'se', 'Audio not clear', 'Audio not clear', 'redmi Y2', 'when is the world', 'size', 'Audio not clear', 'Audio not clear', 'han', 'shareit', 'is a word', 'Audio not clear', 'Audio not clear', 'Audio not clear', 'Audio not clear', 'try the world', 'is the word', 'Audio not clear', 'Audio not clear', 'Audio not clear', 'Audio not clear', 'try the word by', 'Audio not clear', 'se is a word', 'Audio not clear', 'Audio not clear', 'boys', 'Shahid', 'is the word boys', 'size of boys', 'Audio not clear', 'Audio not clear', 'Audio not clear', 'the word boy', 'where is the word', 'Audio not clear', 'Audio not clear', 'Audio not clear', 'Audio not clear', 'Audio not clear', 'when is the word', 'size of word', 'Audio not clear', 'in the world', 'why', 'Audio not clear', 'Audio not clear', 'size of word', 'Audio not clear', 'Audio not clear', 'Audio not clear', 'study', 'Audio not clear', 'size of World War', 'is a', 'Audio not clear', 'Audio not clear', 'Audio not clear', 'is a word', 'Audio not clear', 'Audio not clear', 'Audio not clear', 'Audio not clear', 'Audio not clear', 'Audio not clear', 'Audio not clear', 'Audio not clear', 'Audio not clear', 'Audio not clear', 'Sweden', 'where is the world', 'se is a word', 'Audio not clear', 'the word', 'Audio not clear', 'the world when', 'where is the world', 'Audio not clear', 'Audio not clear', 'Audio not clear', 'Audio not clear', 'the word which', 'Audio not clear', 'Audio not clear', 'Audio not clear', 'Audio not clear', 'Audio not clear', 'Audio not clear', 'Audio not clear', 'size of word', 'Audio not clear', 'the world', 'Shahid World War I', 'cyber world war', 'Audio not clear', 'Audio not clear', 'say is a verb', 'Audio not clear', 'se', 'Audio not clear', 'Audio not clear', 'Audio not clear', 'Audio not clear', 'Audio not clear', 'Audio not clear', 'Audio not clear', 'Audio not clear', 'Audio not clear', 'Audio not clear', 'Audio not clear', 'wait', 'Audio not clear', 'is the word', 'Audio not clear', 'say is a verb', 'Audio not clear', 'Audio not clear', 'Shahid', 'is the world', 'size of word', 'Audio not clear', 'Audio not clear', 'yes', 'Shahid', 'Audio not clear', 'Audio not clear', 'Audio not clear', 'Audio not clear', 'Audio not clear', 'Audio not clear', 'Audio not clear', 'size of word', 'Audio not clear', 'Audio not clear', 'Audio not clear', 'Audio not clear', 'where is the work', 'se is a word', 'Audio not clear', 'ok bye']\n"
     ]
    },
    {
     "name": "stdout",
     "output_type": "stream",
     "text": [
      "[]\n"
     ]
    }
   ],
   "source": [
    "text_list=text['Speech_to_text'].to_list()\n",
    "print(text_list)\n",
    "tokenized_reviews=lemmatization(text_list)\n",
    "print(tokenized_reviews[1])"
   ]
  },
  {
   "cell_type": "code",
   "execution_count": 16,
   "id": "54773dca",
   "metadata": {},
   "outputs": [],
   "source": [
    "import gensim\n",
    "from gensim import corpora"
   ]
  },
  {
   "cell_type": "code",
   "execution_count": 17,
   "id": "44b3ad62",
   "metadata": {
    "scrolled": true
   },
   "outputs": [],
   "source": [
    "dictionary=corpora.Dictionary(tokenized_reviews)\n",
    "doc_term_matrix=[dictionary.doc2bow(rev) for rev in tokenized_reviews]"
   ]
  },
  {
   "cell_type": "code",
   "execution_count": 18,
   "id": "0a2ac793",
   "metadata": {},
   "outputs": [],
   "source": [
    "LDA=gensim.models.ldamodel.LdaModel"
   ]
  },
  {
   "cell_type": "code",
   "execution_count": 19,
   "id": "9cc84992",
   "metadata": {},
   "outputs": [],
   "source": [
    "lda_model=LDA(corpus=doc_term_matrix,id2word=dictionary,num_topics=10,random_state=100,chunksize=1000,passes=50,iterations=100)"
   ]
  },
  {
   "cell_type": "code",
   "execution_count": 20,
   "id": "a0ed5f6b",
   "metadata": {},
   "outputs": [
    {
     "data": {
      "text/plain": [
       "[(0,\n",
       "  '0.806*\"word\" + 0.072*\"sahi\" + 0.037*\"boy\" + 0.018*\"show\" + 0.011*\"hair\" + 0.009*\"sahido\" + 0.009*\"award\" + 0.006*\"file\" + 0.006*\"liver\" + 0.005*\"cedarwood\"'),\n",
       " (1,\n",
       "  '0.529*\"size\" + 0.351*\"word\" + 0.026*\"search\" + 0.012*\"mess\" + 0.009*\"tire\" + 0.009*\"show\" + 0.009*\"road\" + 0.009*\"cyber\" + 0.009*\"week\" + 0.006*\"chief\"'),\n",
       " (2,\n",
       "  '0.665*\"Shahid\" + 0.065*\"chain\" + 0.044*\"play\" + 0.033*\"silver\" + 0.033*\"hay\" + 0.033*\"swimming\" + 0.033*\"page\" + 0.001*\"sahi\" + 0.001*\"word\" + 0.001*\"world\"'),\n",
       " (3,\n",
       "  '0.311*\"sweet\" + 0.206*\"verge\" + 0.053*\"workshop\" + 0.053*\"sure\" + 0.051*\"noise\" + 0.038*\"light\" + 0.038*\"street\" + 0.038*\"xavier\" + 0.038*\"siren\" + 0.038*\"hai\"'),\n",
       " (4,\n",
       "  '0.498*\"audio\" + 0.498*\"clear\" + 0.000*\"name\" + 0.000*\"week\" + 0.000*\"cyber\" + 0.000*\"race\" + 0.000*\"wordbrain\" + 0.000*\"phone\" + 0.000*\"way\" + 0.000*\"noise\"'),\n",
       " (5,\n",
       "  '0.497*\"audio\" + 0.497*\"clear\" + 0.002*\"wordbrain\" + 0.002*\"way\" + 0.000*\"name\" + 0.000*\"week\" + 0.000*\"cyber\" + 0.000*\"race\" + 0.000*\"phone\" + 0.000*\"noise\"'),\n",
       " (6,\n",
       "  '0.765*\"world\" + 0.039*\"map\" + 0.025*\"free\" + 0.015*\"war\" + 0.015*\"cellular\" + 0.015*\"song\" + 0.014*\"good\" + 0.014*\"night\" + 0.014*\"shahid\" + 0.014*\"race\"'),\n",
       " (7,\n",
       "  '0.421*\"verb\" + 0.137*\"movie\" + 0.137*\"phone\" + 0.004*\"sahi\" + 0.004*\"word\" + 0.004*\"way\" + 0.004*\"wordbrain\" + 0.004*\"clear\" + 0.004*\"audio\" + 0.004*\"road\"'),\n",
       " (8,\n",
       "  '0.186*\"time\" + 0.094*\"study\" + 0.092*\"version\" + 0.092*\"sohail\" + 0.092*\"short\" + 0.066*\"harsh\" + 0.066*\"haze\" + 0.066*\"jug\" + 0.066*\"gas\" + 0.003*\"size\"'),\n",
       " (9,\n",
       "  '0.306*\"work\" + 0.091*\"request\" + 0.062*\"new\" + 0.046*\"service\" + 0.046*\"recognition\" + 0.046*\"result\" + 0.046*\"bad\" + 0.046*\"robot\" + 0.046*\"sorry\" + 0.046*\"wife\"')]"
      ]
     },
     "execution_count": 20,
     "metadata": {},
     "output_type": "execute_result"
    }
   ],
   "source": [
    "lda_model.print_topics()"
   ]
  },
  {
   "cell_type": "markdown",
   "id": "19cc8db5",
   "metadata": {},
   "source": [
    "# Objective 4- Finding the Salient Features"
   ]
  },
  {
   "cell_type": "code",
   "execution_count": 21,
   "id": "123bbf03",
   "metadata": {},
   "outputs": [],
   "source": [
    "import pyLDAvis"
   ]
  },
  {
   "cell_type": "code",
   "execution_count": 22,
   "id": "df94a6aa",
   "metadata": {},
   "outputs": [],
   "source": [
    "import pyLDAvis.gensim_models as gensimvis\n",
    "pyLDAvis.enable_notebook()"
   ]
  },
  {
   "cell_type": "code",
   "execution_count": 23,
   "id": "00148812",
   "metadata": {},
   "outputs": [
    {
     "name": "stderr",
     "output_type": "stream",
     "text": [
      "C:\\Users\\Vignesh\\.conda\\envs\\tensorflow\\lib\\site-packages\\pyLDAvis\\_prepare.py:246: FutureWarning: In a future version of pandas all arguments of DataFrame.drop except for the argument 'labels' will be keyword-only.\n",
      "  default_term_info = default_term_info.sort_values(\n"
     ]
    },
    {
     "data": {
      "text/html": [
       "\n",
       "<link rel=\"stylesheet\" type=\"text/css\" href=\"https://cdn.jsdelivr.net/gh/bmabey/pyLDAvis@3.3.1/pyLDAvis/js/ldavis.v1.0.0.css\">\n",
       "\n",
       "\n",
       "<div id=\"ldavis_el310028886992013443081327017\"></div>\n",
       "<script type=\"text/javascript\">\n",
       "\n",
       "var ldavis_el310028886992013443081327017_data = {\"mdsDat\": {\"x\": [0.44510534119027567, 0.4424413945118094, -0.10261623502766228, -0.09865170984122959, -0.06272428666434246, -0.10059008791586674, -0.12747257396805883, -0.11785747712958426, -0.1350902475998064, -0.14254411755553525], \"y\": [0.009792887551722685, 0.011875266661327783, -0.3719620677753374, -0.3776549935487204, 0.09790500550354277, 0.11328817109548815, 0.13285708515334613, 0.12911269604933026, 0.12997602111494147, 0.12480992819435796], \"topics\": [1, 2, 3, 4, 5, 6, 7, 8, 9, 10], \"cluster\": [1, 1, 1, 1, 1, 1, 1, 1, 1, 1], \"Freq\": [30.647227893468582, 29.056032082012933, 7.865393571482404, 7.101100749197379, 5.646348244363231, 4.167065961649465, 4.090583261096386, 4.037403667602397, 3.761344977896719, 3.6274995912305035]}, \"tinfo\": {\"Term\": [\"word\", \"audio\", \"clear\", \"world\", \"size\", \"Shahid\", \"verb\", \"sweet\", \"work\", \"verge\", \"time\", \"movie\", \"phone\", \"sahi\", \"request\", \"study\", \"sohail\", \"version\", \"short\", \"chain\", \"haze\", \"harsh\", \"jug\", \"gas\", \"new\", \"sure\", \"workshop\", \"noise\", \"bad\", \"recognition\", \"audio\", \"clear\", \"sour\", \"birth\", \"cedarwood\", \"way\", \"wordbrain\", \"liver\", \"file\", \"home\", \"virgin\", \"chief\", \"call\", \"award\", \"sahido\", \"cyber\", \"week\", \"road\", \"tire\", \"hair\", \"bird\", \"name\", \"race\", \"good\", \"night\", \"shahid\", \"song\", \"cellular\", \"war\", \"mess\", \"word\", \"size\", \"main\", \"sweet\", \"Shahid\", \"page\", \"sahi\", \"world\", \"free\", \"chain\", \"silver\", \"wood\", \"work\", \"robot\", \"sorry\", \"siren\", \"bad\", \"recognition\", \"request\", \"result\", \"service\", \"gas\", \"hay\", \"haze\", \"audio\", \"clear\", \"way\", \"wordbrain\", \"sour\", \"birth\", \"cedarwood\", \"liver\", \"file\", \"home\", \"virgin\", \"chief\", \"call\", \"award\", \"sahido\", \"cyber\", \"week\", \"road\", \"tire\", \"hair\", \"bird\", \"name\", \"race\", \"good\", \"night\", \"shahid\", \"song\", \"cellular\", \"war\", \"mess\", \"word\", \"size\", \"main\", \"sweet\", \"Shahid\", \"page\", \"sahi\", \"world\", \"free\", \"chain\", \"silver\", \"wood\", \"work\", \"robot\", \"sorry\", \"siren\", \"bad\", \"recognition\", \"request\", \"result\", \"service\", \"gas\", \"size\", \"search\", \"mess\", \"tire\", \"road\", \"cyber\", \"week\", \"chief\", \"virgin\", \"home\", \"word\", \"show\", \"sour\", \"birth\", \"cedarwood\", \"way\", \"wordbrain\", \"liver\", \"file\", \"call\", \"award\", \"sahido\", \"hair\", \"bird\", \"name\", \"race\", \"good\", \"night\", \"shahid\", \"song\", \"boy\", \"gas\", \"short\", \"world\", \"work\", \"Shahid\", \"audio\", \"clear\", \"main\", \"sweet\", \"page\", \"sahi\", \"sahi\", \"boy\", \"word\", \"hair\", \"sahido\", \"award\", \"show\", \"file\", \"liver\", \"cedarwood\", \"birth\", \"sour\", \"way\", \"wordbrain\", \"home\", \"virgin\", \"chief\", \"call\", \"cyber\", \"week\", \"road\", \"tire\", \"bird\", \"name\", \"race\", \"good\", \"night\", \"shahid\", \"song\", \"cellular\", \"page\", \"phone\", \"new\", \"main\", \"sweet\", \"jug\", \"chain\", \"movie\", \"size\", \"world\", \"audio\", \"clear\", \"Shahid\", \"free\", \"silver\", \"wood\", \"world\", \"map\", \"free\", \"war\", \"cellular\", \"song\", \"good\", \"night\", \"shahid\", \"race\", \"bird\", \"name\", \"call\", \"sour\", \"birth\", \"cedarwood\", \"way\", \"wordbrain\", \"liver\", \"file\", \"home\", \"virgin\", \"chief\", \"award\", \"sahido\", \"cyber\", \"week\", \"road\", \"tire\", \"hair\", \"sahi\", \"swimming\", \"size\", \"audio\", \"clear\", \"word\", \"main\", \"sweet\", \"Shahid\", \"page\", \"chain\", \"silver\", \"wood\", \"Shahid\", \"chain\", \"play\", \"silver\", \"hay\", \"swimming\", \"page\", \"sour\", \"birth\", \"cedarwood\", \"way\", \"wordbrain\", \"liver\", \"file\", \"home\", \"virgin\", \"chief\", \"call\", \"award\", \"sahido\", \"cyber\", \"week\", \"road\", \"tire\", \"hair\", \"bird\", \"name\", \"race\", \"good\", \"night\", \"sahi\", \"word\", \"world\", \"size\", \"audio\", \"clear\", \"mess\", \"search\", \"show\", \"song\", \"boy\", \"main\", \"sweet\", \"free\", \"wood\", \"work\", \"request\", \"new\", \"bad\", \"recognition\", \"result\", \"service\", \"robot\", \"sorry\", \"wood\", \"wife\", \"main\", \"sour\", \"birth\", \"cedarwood\", \"way\", \"wordbrain\", \"liver\", \"file\", \"home\", \"virgin\", \"chief\", \"call\", \"award\", \"sahido\", \"cyber\", \"week\", \"road\", \"tire\", \"hair\", \"size\", \"word\", \"audio\", \"clear\", \"sahi\", \"world\", \"mess\", \"search\", \"sweet\", \"verge\", \"sure\", \"workshop\", \"noise\", \"light\", \"street\", \"siren\", \"hai\", \"share\", \"xavier\", \"sour\", \"birth\", \"cedarwood\", \"way\", \"wordbrain\", \"liver\", \"file\", \"home\", \"virgin\", \"chief\", \"call\", \"award\", \"sahido\", \"cyber\", \"week\", \"road\", \"tire\", \"hair\", \"bird\", \"show\", \"word\", \"audio\", \"clear\", \"size\", \"sahi\", \"world\", \"mess\", \"search\", \"time\", \"study\", \"sohail\", \"version\", \"short\", \"haze\", \"harsh\", \"jug\", \"gas\", \"sour\", \"birth\", \"cedarwood\", \"way\", \"wordbrain\", \"liver\", \"file\", \"home\", \"virgin\", \"chief\", \"call\", \"award\", \"sahido\", \"cyber\", \"week\", \"road\", \"tire\", \"hair\", \"bird\", \"name\", \"race\", \"size\", \"word\", \"audio\", \"clear\", \"search\", \"show\", \"boy\", \"sahi\", \"world\", \"mess\", \"verb\", \"movie\", \"phone\", \"sour\", \"birth\", \"cedarwood\", \"way\", \"wordbrain\", \"liver\", \"file\", \"home\", \"virgin\", \"chief\", \"call\", \"award\", \"sahido\", \"cyber\", \"week\", \"road\", \"tire\", \"hair\", \"bird\", \"name\", \"race\", \"good\", \"night\", \"shahid\", \"song\", \"cellular\", \"war\", \"sahi\", \"word\", \"audio\", \"clear\", \"search\", \"size\", \"world\", \"mess\", \"show\", \"boy\", \"main\", \"sweet\", \"Shahid\", \"page\"], \"Freq\": [509.0, 1778.0, 1778.0, 261.0, 251.0, 168.0, 93.0, 77.0, 77.0, 52.0, 44.0, 31.0, 31.0, 33.0, 24.0, 23.0, 23.0, 23.0, 23.0, 18.0, 17.0, 17.0, 17.0, 17.0, 17.0, 15.0, 15.0, 14.0, 13.0, 13.0, 912.9329121013932, 912.9329121013932, 0.07492731467310869, 0.07492731467310869, 0.07492731467310869, 0.07492731467310869, 0.07492731467310869, 0.07492731467310869, 0.07492731467310869, 0.07492731467310869, 0.07492731467310869, 0.07492731467310869, 0.07492731467310869, 0.07492731467310869, 0.07492731467310869, 0.07492731467310869, 0.07492731467310869, 0.07492731467310869, 0.07492731467310869, 0.07492731467310869, 0.07492731467310869, 0.07492731467310869, 0.07492731467310869, 0.07492731467310869, 0.07492731467310869, 0.07492731467310869, 0.07492731467310869, 0.07492731467310869, 0.07492731467310869, 0.07492731467310869, 0.07492731467310869, 0.07492731467310869, 0.07492731467310869, 0.07492731467310869, 0.07492731467310869, 0.07492731467310869, 0.07492731467310869, 0.07492731467310869, 0.07492731467310869, 0.07492731467310869, 0.07492731467310869, 0.07492731467310869, 0.07492731467310869, 0.07492731467310869, 0.07492731467310869, 0.07492731467310869, 0.07492731467310869, 0.07492731467310869, 0.07492731467310869, 0.07492731467310869, 0.07492731467310869, 0.07492731467310869, 0.07492731467310869, 0.07492731467310869, 862.7589331240806, 862.7589331240806, 2.6514247055228664, 2.6514247055228664, 0.07608341033816349, 0.07608341033816349, 0.07608341033816349, 0.07608341033816349, 0.07608341033816349, 0.07608341033816349, 0.07608341033816349, 0.07608341033816349, 0.07608341033816349, 0.07608341033816349, 0.07608341033816349, 0.07608341033816349, 0.07608341033816349, 0.07608341033816349, 0.07608341033816349, 0.07608341033816349, 0.07608341033816349, 0.07608341033816349, 0.07608341033816349, 0.07608341033816349, 0.07608341033816349, 0.07608341033816349, 0.07608341033816349, 0.07608341033816349, 0.07608341033816349, 0.07608341033816349, 0.07608341033816349, 0.07608341033816349, 0.07608341033816349, 0.07608341033816349, 0.07608341033816349, 0.07608341033816349, 0.07608341033816349, 0.07608341033816349, 0.07608341033816349, 0.07608341033816349, 0.07608341033816349, 0.07608341033816349, 0.07608341033816349, 0.07608341033816349, 0.07608341033816349, 0.07608341033816349, 0.07608341033816349, 0.07608341033816349, 0.07608341033816349, 0.07608341033816349, 0.07608341033816349, 0.07608341033816349, 248.49857895539287, 12.324161533148725, 5.875878958790687, 4.316862490697851, 4.185056025158571, 4.03223598922288, 4.03223598922288, 2.9957505501720334, 2.995737634236484, 2.995689473120876, 164.87384548420232, 4.185092802737762, 0.9368103185319173, 0.11568330069734759, 0.11568330069734759, 0.11568330069734759, 0.11568330069734759, 0.11572074870115982, 0.11570565730612697, 0.11568330069734759, 0.11568330069734759, 0.11568330069734759, 0.11568330069734759, 0.11569319288103638, 0.11569319288103638, 0.11568330069734759, 0.11568330069734759, 0.11568330069734759, 0.11568330069734759, 0.11568330069734759, 0.1156931244703608, 0.1156921667209027, 0.11568737797361213, 0.11568498359996685, 0.11568473732153475, 0.11568442263242709, 0.11568330069734759, 0.11568330069734759, 0.11568330069734759, 0.11568330069734759, 0.11568330069734759, 0.11568330069734759, 30.703426241604976, 15.507843916248005, 342.20647375273506, 4.632485576216318, 3.956415404226872, 3.835677929253568, 7.5654039758708365, 2.7455392301676373, 2.7454489078083535, 1.9928966475495882, 1.1193785370742968, 0.10602434310669856, 0.10602435545931882, 0.10602435545931882, 0.10602434310669856, 0.10602434310669856, 0.10602434310669856, 0.10602434310669856, 0.10602434310669856, 0.10602434310669856, 0.10602434310669856, 0.10602434310669856, 0.10602434310669856, 0.10602434310669856, 0.10602434310669856, 0.10602434310669856, 0.10602434310669856, 0.10602434310669856, 0.10602434310669856, 0.10602434310669856, 0.1060415503067098, 0.10603005001725506, 0.10603002531201455, 0.10602934591790068, 0.10602901239715387, 0.10602767831416665, 0.10602754243534387, 0.10602664069406546, 0.10602588718423009, 0.10602530661107823, 0.10602435545931882, 0.10602435545931882, 0.10602434310669856, 0.10602434310669856, 0.10602434310669856, 0.10602434310669856, 258.22387655382704, 13.080513359657862, 8.349561861067363, 5.214393186277052, 5.214392871972223, 5.055228591913867, 4.8706178785392185, 4.8706178785392185, 4.8706178785392185, 4.8706081350894985, 4.87056633254715, 4.87056633254715, 3.618610676781693, 0.13973430908003467, 0.13973430908003467, 0.13973430908003467, 0.13973433854611247, 0.13973433854611247, 0.13973430908003467, 0.13973430908003467, 0.13973430908003467, 0.13973430908003467, 0.13973430908003467, 0.13973430908003467, 0.13973430908003467, 0.13973430908003467, 0.13973430908003467, 0.13973430908003467, 0.13973430908003467, 0.13977776172273892, 0.13975063328712656, 0.13974945464401523, 0.13974215687875094, 0.13973431890206062, 0.13973431890206062, 0.13973430908003467, 0.13973430908003467, 0.13973430908003467, 0.13973430908003467, 0.13973430908003467, 0.13973430908003467, 0.13973430908003467, 0.13973430908003467, 165.69917786819016, 16.08620398728329, 11.038995269436343, 8.201446484248727, 8.201420504688686, 8.201336071118554, 8.201268338694161, 0.31669860756900015, 0.31669863656404484, 0.31669860756900015, 0.3166987525442236, 0.3166987525442236, 0.31669863656404484, 0.31669860756900015, 0.31669863656404484, 0.31669860756900015, 0.31669860756900015, 0.31669860756900015, 0.31669860756900015, 0.31669860756900015, 0.31669860756900015, 0.31669860756900015, 0.31669863656404484, 0.31669860756900015, 0.31669863656404484, 0.31669860756900015, 0.31669860756900015, 0.31669860756900015, 0.31669860756900015, 0.31669860756900015, 0.31671501876429375, 0.31670849487923886, 0.31670249290498836, 0.3167017680288712, 0.3166987235491789, 0.3166987235491789, 0.31669863656404484, 0.31669863656404484, 0.31669863656404484, 0.31669863656404484, 0.31669863656404484, 0.31669860756900015, 0.31669860756900015, 0.31669860756900015, 0.31669860756900015, 74.7564041850813, 22.236627179136544, 15.259552358813611, 11.337185295286533, 11.337185295286533, 11.337185295286533, 11.337185295286533, 11.33717345473384, 11.33717345473384, 11.337147041193216, 11.337147041193216, 11.337074176253568, 0.43778388563346526, 0.43778388563346526, 0.43778388563346526, 0.4377841417992687, 0.4377841417992687, 0.43778388563346526, 0.43778388563346526, 0.43778388563346526, 0.43778388563346526, 0.4377838287077312, 0.4377838287077312, 0.43778388563346526, 0.43778388563346526, 0.43778388563346526, 0.43778388563346526, 0.4377839140963323, 0.4377838287077312, 0.43778388563346526, 0.4378052327837531, 0.4378002517820193, 0.4377840279478005, 0.4377840279478005, 0.43778388563346526, 0.43778388563346526, 0.43778388563346526, 0.43778388563346526, 74.96908994878031, 49.7009317170586, 12.688204346483596, 12.688204346483596, 12.224728292212504, 9.082384143349774, 9.082384143349774, 9.082360770110402, 9.082360770110402, 9.082360770110402, 9.082360770110402, 0.3507157939113195, 0.35071582200415535, 0.35071582200415535, 0.35071599056117003, 0.35071599056117003, 0.35071582200415535, 0.35071582200415535, 0.35071582200415535, 0.3507157939113195, 0.3507157939113195, 0.3507157939113195, 0.35071582200415535, 0.35071582200415535, 0.35071582200415535, 0.35071582200415535, 0.35071582200415535, 0.3507157939113195, 0.35071582200415535, 0.3507157939113195, 0.35086277562814816, 0.3507360769387565, 0.3507159343754985, 0.3507159343754985, 0.35071582200415535, 0.35071582200415535, 0.35071582200415535, 0.35071582200415535, 0.35071582200415535, 41.90140146173653, 21.23518386884244, 20.587160626654658, 20.587160626654658, 20.587090276373246, 14.736536423301828, 14.736536423301828, 14.736476123060617, 14.736404097772507, 0.5690499739394047, 0.5690500262833641, 0.5690499739394047, 0.5690504973789985, 0.5690504973789985, 0.5690500262833641, 0.5690499739394047, 0.5690500262833641, 0.5690499739394047, 0.5690499739394047, 0.5690499739394047, 0.5690499739394047, 0.5690499739394047, 0.5690499739394047, 0.5690499739394047, 0.5690500262833641, 0.5690499739394047, 0.5690500262833641, 0.5690499739394047, 0.5690499739394047, 0.5690499739394047, 0.5690879233099577, 0.5690764076388933, 0.5690502880031609, 0.5690502880031609, 0.5690500262833641, 0.5690500262833641, 0.5690500262833641, 0.5690499739394047, 0.5690499739394047, 0.5690499739394047, 91.32170857315103, 29.613361745298292, 29.6132874367828, 0.8495772336220765, 0.8495774355473903, 0.8495773345847334, 0.8495786470992732, 0.8495786470992732, 0.8495774355473903, 0.8495772336220765, 0.8495774355473903, 0.8495772336220765, 0.8495772336220765, 0.8495772336220765, 0.8495773345847334, 0.8495773345847334, 0.8495773345847334, 0.8495773345847334, 0.8495774355473903, 0.8495772336220765, 0.8495773345847334, 0.8495772336220765, 0.8495772336220765, 0.8495772336220765, 0.8495772336220765, 0.8495772336220765, 0.8495772336220765, 0.8495773345847334, 0.8495772336220765, 0.8495772336220765, 0.84977693775745, 0.84964023431999, 0.8495781422859887, 0.8495781422859887, 0.8495774355473903, 0.8495773345847334, 0.8495773345847334, 0.8495773345847334, 0.8495773345847334, 0.8495773345847334, 0.8495772336220765, 0.8495772336220765, 0.8495772336220765, 0.8495772336220765], \"Total\": [509.0, 1778.0, 1778.0, 261.0, 251.0, 168.0, 93.0, 77.0, 77.0, 52.0, 44.0, 31.0, 31.0, 33.0, 24.0, 23.0, 23.0, 23.0, 23.0, 18.0, 17.0, 17.0, 17.0, 17.0, 17.0, 15.0, 15.0, 14.0, 13.0, 13.0, 1778.5771143166944, 1778.5771143166944, 3.8574051904051885, 4.049632677895372, 4.923150606069002, 5.611622044281687, 5.611622044281687, 5.67574049663324, 5.675815444333173, 5.9162846563513005, 5.916332506109756, 5.916345365119571, 6.515154483346543, 6.765931887772981, 6.886669362746284, 6.952830990151643, 6.952830990151643, 7.105651236851862, 7.237457305645387, 7.562783068717439, 7.767120031295689, 7.767120031295689, 7.767151941654349, 7.76716163276011, 7.76716163276011, 7.76716163276011, 7.951772613454988, 8.110936678537074, 8.110936992841904, 8.796473988714494, 509.8950257365875, 251.41924580517858, 13.935573413657965, 77.65465688746036, 168.41875844585718, 10.920865001626098, 33.63391253869949, 261.1204270781161, 11.246105615288254, 18.805786642343865, 10.921025939980654, 13.935641275786411, 77.35489985629867, 13.935667689327035, 13.935667689327035, 11.767923039500008, 13.935679529879728, 13.935679529879728, 24.83512141372974, 13.935679529879728, 13.935679529879728, 17.203641105501543, 10.920999960420612, 17.20376456500731, 1778.5771143166944, 1778.5771143166944, 5.611622044281687, 5.611622044281687, 3.8574051904051885, 4.049632677895372, 4.923150606069002, 5.67574049663324, 5.675815444333173, 5.9162846563513005, 5.916332506109756, 5.916345365119571, 6.515154483346543, 6.765931887772981, 6.886669362746284, 6.952830990151643, 6.952830990151643, 7.105651236851862, 7.237457305645387, 7.562783068717439, 7.767120031295689, 7.767120031295689, 7.767151941654349, 7.76716163276011, 7.76716163276011, 7.76716163276011, 7.951772613454988, 8.110936678537074, 8.110936992841904, 8.796473988714494, 509.8950257365875, 251.41924580517858, 13.935573413657965, 77.65465688746036, 168.41875844585718, 10.920865001626098, 33.63391253869949, 261.1204270781161, 11.246105615288254, 18.805786642343865, 10.921025939980654, 13.935641275786411, 77.35489985629867, 13.935667689327035, 13.935667689327035, 11.767923039500008, 13.935679529879728, 13.935679529879728, 24.83512141372974, 13.935679529879728, 13.935679529879728, 17.203641105501543, 251.41924580517858, 15.244756716379149, 8.796473988714494, 7.237457305645387, 7.105651236851862, 6.952830990151643, 6.952830990151643, 5.916345365119571, 5.916332506109756, 5.9162846563513005, 509.8950257365875, 14.56521447139366, 3.8574051904051885, 4.049632677895372, 4.923150606069002, 5.611622044281687, 5.611622044281687, 5.67574049663324, 5.675815444333173, 6.515154483346543, 6.765931887772981, 6.886669362746284, 7.562783068717439, 7.767120031295689, 7.767120031295689, 7.767151941654349, 7.76716163276011, 7.76716163276011, 7.76716163276011, 7.951772613454988, 18.438107779879434, 17.203641105501543, 23.05432249535499, 261.1204270781161, 77.35489985629867, 168.41875844585718, 1778.5771143166944, 1778.5771143166944, 13.935573413657965, 77.65465688746036, 10.920865001626098, 33.63391253869949, 33.63391253869949, 18.438107779879434, 509.8950257365875, 7.562783068717439, 6.886669362746284, 6.765931887772981, 14.56521447139366, 5.675815444333173, 5.67574049663324, 4.923150606069002, 4.049632677895372, 3.8574051904051885, 5.611622044281687, 5.611622044281687, 5.9162846563513005, 5.916332506109756, 5.916345365119571, 6.515154483346543, 6.952830990151643, 6.952830990151643, 7.105651236851862, 7.237457305645387, 7.767120031295689, 7.767120031295689, 7.767151941654349, 7.76716163276011, 7.76716163276011, 7.76716163276011, 7.951772613454988, 8.110936678537074, 10.920865001626098, 31.799993973372207, 17.858052275612124, 13.935573413657965, 77.65465688746036, 17.20370759997357, 18.805786642343865, 31.80006487256451, 251.41924580517858, 261.1204270781161, 1778.5771143166944, 1778.5771143166944, 168.41875844585718, 11.246105615288254, 10.921025939980654, 13.935641275786411, 261.1204270781161, 15.977057113878754, 11.246105615288254, 8.110936992841904, 8.110936678537074, 7.951772613454988, 7.76716163276011, 7.76716163276011, 7.76716163276011, 7.767151941654349, 7.767120031295689, 7.767120031295689, 6.515154483346543, 3.8574051904051885, 4.049632677895372, 4.923150606069002, 5.611622044281687, 5.611622044281687, 5.67574049663324, 5.675815444333173, 5.9162846563513005, 5.916332506109756, 5.916345365119571, 6.765931887772981, 6.886669362746284, 6.952830990151643, 6.952830990151643, 7.105651236851862, 7.237457305645387, 7.562783068717439, 33.63391253869949, 10.92093067241446, 251.41924580517858, 1778.5771143166944, 1778.5771143166944, 509.8950257365875, 13.935573413657965, 77.65465688746036, 168.41875844585718, 10.920865001626098, 18.805786642343865, 10.921025939980654, 13.935641275786411, 168.41875844585718, 18.805786642343865, 13.75857472516827, 10.921025939980654, 10.920999960420612, 10.92093067241446, 10.920865001626098, 3.8574051904051885, 4.049632677895372, 4.923150606069002, 5.611622044281687, 5.611622044281687, 5.67574049663324, 5.675815444333173, 5.9162846563513005, 5.916332506109756, 5.916345365119571, 6.515154483346543, 6.765931887772981, 6.886669362746284, 6.952830990151643, 6.952830990151643, 7.105651236851862, 7.237457305645387, 7.562783068717439, 7.767120031295689, 7.767120031295689, 7.767151941654349, 7.76716163276011, 7.76716163276011, 33.63391253869949, 509.8950257365875, 261.1204270781161, 251.41924580517858, 1778.5771143166944, 1778.5771143166944, 8.796473988714494, 15.244756716379149, 14.56521447139366, 7.951772613454988, 18.438107779879434, 13.935573413657965, 77.65465688746036, 11.246105615288254, 13.935641275786411, 77.35489985629867, 24.83512141372974, 17.858052275612124, 13.935679529879728, 13.935679529879728, 13.935679529879728, 13.935679529879728, 13.935667689327035, 13.935667689327035, 13.935641275786411, 13.935641275786411, 13.935573413657965, 3.8574051904051885, 4.049632677895372, 4.923150606069002, 5.611622044281687, 5.611622044281687, 5.67574049663324, 5.675815444333173, 5.9162846563513005, 5.916332506109756, 5.916345365119571, 6.515154483346543, 6.765931887772981, 6.886669362746284, 6.952830990151643, 6.952830990151643, 7.105651236851862, 7.237457305645387, 7.562783068717439, 251.41924580517858, 509.8950257365875, 1778.5771143166944, 1778.5771143166944, 33.63391253869949, 261.1204270781161, 8.796473988714494, 15.244756716379149, 77.65465688746036, 52.38649398644821, 15.373766615873201, 15.373766615873201, 14.91029056160211, 11.76794641273938, 11.76794641273938, 11.767923039500008, 11.767923039500008, 11.767923039500008, 11.767923039500008, 3.8574051904051885, 4.049632677895372, 4.923150606069002, 5.611622044281687, 5.611622044281687, 5.67574049663324, 5.675815444333173, 5.9162846563513005, 5.916332506109756, 5.916345365119571, 6.515154483346543, 6.765931887772981, 6.886669362746284, 6.952830990151643, 6.952830990151643, 7.105651236851862, 7.237457305645387, 7.562783068717439, 7.767120031295689, 14.56521447139366, 509.8950257365875, 1778.5771143166944, 1778.5771143166944, 251.41924580517858, 33.63391253869949, 261.1204270781161, 8.796473988714494, 15.244756716379149, 44.36862960344202, 23.702412010547924, 23.05438876836014, 23.05438876836014, 23.05432249535499, 17.20376456500731, 17.20376456500731, 17.20370759997357, 17.203641105501543, 3.8574051904051885, 4.049632677895372, 4.923150606069002, 5.611622044281687, 5.611622044281687, 5.67574049663324, 5.675815444333173, 5.9162846563513005, 5.916332506109756, 5.916345365119571, 6.515154483346543, 6.765931887772981, 6.886669362746284, 6.952830990151643, 6.952830990151643, 7.105651236851862, 7.237457305645387, 7.562783068717439, 7.767120031295689, 7.767120031295689, 7.767151941654349, 251.41924580517858, 509.8950257365875, 1778.5771143166944, 1778.5771143166944, 15.244756716379149, 14.56521447139366, 18.438107779879434, 33.63391253869949, 261.1204270781161, 8.796473988714494, 93.50840940282988, 31.80006487256451, 31.799993973372207, 3.8574051904051885, 4.049632677895372, 4.923150606069002, 5.611622044281687, 5.611622044281687, 5.67574049663324, 5.675815444333173, 5.9162846563513005, 5.916332506109756, 5.916345365119571, 6.515154483346543, 6.765931887772981, 6.886669362746284, 6.952830990151643, 6.952830990151643, 7.105651236851862, 7.237457305645387, 7.562783068717439, 7.767120031295689, 7.767120031295689, 7.767151941654349, 7.76716163276011, 7.76716163276011, 7.76716163276011, 7.951772613454988, 8.110936678537074, 8.110936992841904, 33.63391253869949, 509.8950257365875, 1778.5771143166944, 1778.5771143166944, 15.244756716379149, 251.41924580517858, 261.1204270781161, 8.796473988714494, 14.56521447139366, 18.438107779879434, 13.935573413657965, 77.65465688746036, 168.41875844585718, 10.920865001626098], \"Category\": [\"Default\", \"Default\", \"Default\", \"Default\", \"Default\", \"Default\", \"Default\", \"Default\", \"Default\", \"Default\", \"Default\", \"Default\", \"Default\", \"Default\", \"Default\", \"Default\", \"Default\", \"Default\", \"Default\", \"Default\", \"Default\", \"Default\", \"Default\", \"Default\", \"Default\", \"Default\", \"Default\", \"Default\", \"Default\", \"Default\", \"Topic1\", \"Topic1\", \"Topic1\", \"Topic1\", \"Topic1\", \"Topic1\", \"Topic1\", \"Topic1\", \"Topic1\", \"Topic1\", \"Topic1\", \"Topic1\", \"Topic1\", \"Topic1\", \"Topic1\", \"Topic1\", \"Topic1\", \"Topic1\", \"Topic1\", \"Topic1\", \"Topic1\", \"Topic1\", \"Topic1\", \"Topic1\", \"Topic1\", \"Topic1\", \"Topic1\", \"Topic1\", \"Topic1\", \"Topic1\", \"Topic1\", \"Topic1\", \"Topic1\", \"Topic1\", \"Topic1\", \"Topic1\", \"Topic1\", \"Topic1\", \"Topic1\", \"Topic1\", \"Topic1\", \"Topic1\", \"Topic1\", \"Topic1\", \"Topic1\", \"Topic1\", \"Topic1\", \"Topic1\", \"Topic1\", \"Topic1\", \"Topic1\", \"Topic1\", \"Topic1\", \"Topic1\", \"Topic2\", \"Topic2\", \"Topic2\", \"Topic2\", \"Topic2\", \"Topic2\", \"Topic2\", \"Topic2\", \"Topic2\", \"Topic2\", \"Topic2\", \"Topic2\", \"Topic2\", \"Topic2\", \"Topic2\", \"Topic2\", \"Topic2\", \"Topic2\", \"Topic2\", \"Topic2\", \"Topic2\", \"Topic2\", \"Topic2\", \"Topic2\", \"Topic2\", \"Topic2\", \"Topic2\", \"Topic2\", \"Topic2\", \"Topic2\", \"Topic2\", \"Topic2\", \"Topic2\", \"Topic2\", \"Topic2\", \"Topic2\", \"Topic2\", \"Topic2\", \"Topic2\", \"Topic2\", \"Topic2\", \"Topic2\", \"Topic2\", \"Topic2\", \"Topic2\", \"Topic2\", \"Topic2\", \"Topic2\", \"Topic2\", \"Topic2\", \"Topic2\", \"Topic2\", \"Topic3\", \"Topic3\", \"Topic3\", \"Topic3\", \"Topic3\", \"Topic3\", \"Topic3\", \"Topic3\", \"Topic3\", \"Topic3\", \"Topic3\", \"Topic3\", \"Topic3\", \"Topic3\", \"Topic3\", \"Topic3\", \"Topic3\", \"Topic3\", \"Topic3\", \"Topic3\", \"Topic3\", \"Topic3\", \"Topic3\", \"Topic3\", \"Topic3\", \"Topic3\", \"Topic3\", \"Topic3\", \"Topic3\", \"Topic3\", \"Topic3\", \"Topic3\", \"Topic3\", \"Topic3\", \"Topic3\", \"Topic3\", \"Topic3\", \"Topic3\", \"Topic3\", \"Topic3\", \"Topic3\", \"Topic3\", \"Topic4\", \"Topic4\", \"Topic4\", \"Topic4\", \"Topic4\", \"Topic4\", \"Topic4\", \"Topic4\", \"Topic4\", \"Topic4\", \"Topic4\", \"Topic4\", \"Topic4\", \"Topic4\", \"Topic4\", \"Topic4\", \"Topic4\", \"Topic4\", \"Topic4\", \"Topic4\", \"Topic4\", \"Topic4\", \"Topic4\", \"Topic4\", \"Topic4\", \"Topic4\", \"Topic4\", \"Topic4\", \"Topic4\", \"Topic4\", \"Topic4\", \"Topic4\", \"Topic4\", \"Topic4\", \"Topic4\", \"Topic4\", \"Topic4\", \"Topic4\", \"Topic4\", \"Topic4\", \"Topic4\", \"Topic4\", \"Topic4\", \"Topic4\", \"Topic4\", \"Topic4\", \"Topic5\", \"Topic5\", \"Topic5\", \"Topic5\", \"Topic5\", \"Topic5\", \"Topic5\", \"Topic5\", \"Topic5\", \"Topic5\", \"Topic5\", \"Topic5\", \"Topic5\", \"Topic5\", \"Topic5\", \"Topic5\", \"Topic5\", \"Topic5\", \"Topic5\", \"Topic5\", \"Topic5\", \"Topic5\", \"Topic5\", \"Topic5\", \"Topic5\", \"Topic5\", \"Topic5\", \"Topic5\", \"Topic5\", \"Topic5\", \"Topic5\", \"Topic5\", \"Topic5\", \"Topic5\", \"Topic5\", \"Topic5\", \"Topic5\", \"Topic5\", \"Topic5\", \"Topic5\", \"Topic5\", \"Topic5\", \"Topic5\", \"Topic6\", \"Topic6\", \"Topic6\", \"Topic6\", \"Topic6\", \"Topic6\", \"Topic6\", \"Topic6\", \"Topic6\", \"Topic6\", \"Topic6\", \"Topic6\", \"Topic6\", \"Topic6\", \"Topic6\", \"Topic6\", \"Topic6\", \"Topic6\", \"Topic6\", \"Topic6\", \"Topic6\", \"Topic6\", \"Topic6\", \"Topic6\", \"Topic6\", \"Topic6\", \"Topic6\", \"Topic6\", \"Topic6\", \"Topic6\", \"Topic6\", \"Topic6\", \"Topic6\", \"Topic6\", \"Topic6\", \"Topic6\", \"Topic6\", \"Topic6\", \"Topic6\", \"Topic6\", \"Topic6\", \"Topic6\", \"Topic6\", \"Topic6\", \"Topic6\", \"Topic7\", \"Topic7\", \"Topic7\", \"Topic7\", \"Topic7\", \"Topic7\", \"Topic7\", \"Topic7\", \"Topic7\", \"Topic7\", \"Topic7\", \"Topic7\", \"Topic7\", \"Topic7\", \"Topic7\", \"Topic7\", \"Topic7\", \"Topic7\", \"Topic7\", \"Topic7\", \"Topic7\", \"Topic7\", \"Topic7\", \"Topic7\", \"Topic7\", \"Topic7\", \"Topic7\", \"Topic7\", \"Topic7\", \"Topic7\", \"Topic7\", \"Topic7\", \"Topic7\", \"Topic7\", \"Topic7\", \"Topic7\", \"Topic7\", \"Topic7\", \"Topic8\", \"Topic8\", \"Topic8\", \"Topic8\", \"Topic8\", \"Topic8\", \"Topic8\", \"Topic8\", \"Topic8\", \"Topic8\", \"Topic8\", \"Topic8\", \"Topic8\", \"Topic8\", \"Topic8\", \"Topic8\", \"Topic8\", \"Topic8\", \"Topic8\", \"Topic8\", \"Topic8\", \"Topic8\", \"Topic8\", \"Topic8\", \"Topic8\", \"Topic8\", \"Topic8\", \"Topic8\", \"Topic8\", \"Topic8\", \"Topic8\", \"Topic8\", \"Topic8\", \"Topic8\", \"Topic8\", \"Topic8\", \"Topic8\", \"Topic8\", \"Topic8\", \"Topic9\", \"Topic9\", \"Topic9\", \"Topic9\", \"Topic9\", \"Topic9\", \"Topic9\", \"Topic9\", \"Topic9\", \"Topic9\", \"Topic9\", \"Topic9\", \"Topic9\", \"Topic9\", \"Topic9\", \"Topic9\", \"Topic9\", \"Topic9\", \"Topic9\", \"Topic9\", \"Topic9\", \"Topic9\", \"Topic9\", \"Topic9\", \"Topic9\", \"Topic9\", \"Topic9\", \"Topic9\", \"Topic9\", \"Topic9\", \"Topic9\", \"Topic9\", \"Topic9\", \"Topic9\", \"Topic9\", \"Topic9\", \"Topic9\", \"Topic9\", \"Topic9\", \"Topic9\", \"Topic10\", \"Topic10\", \"Topic10\", \"Topic10\", \"Topic10\", \"Topic10\", \"Topic10\", \"Topic10\", \"Topic10\", \"Topic10\", \"Topic10\", \"Topic10\", \"Topic10\", \"Topic10\", \"Topic10\", \"Topic10\", \"Topic10\", \"Topic10\", \"Topic10\", \"Topic10\", \"Topic10\", \"Topic10\", \"Topic10\", \"Topic10\", \"Topic10\", \"Topic10\", \"Topic10\", \"Topic10\", \"Topic10\", \"Topic10\", \"Topic10\", \"Topic10\", \"Topic10\", \"Topic10\", \"Topic10\", \"Topic10\", \"Topic10\", \"Topic10\", \"Topic10\", \"Topic10\", \"Topic10\", \"Topic10\", \"Topic10\", \"Topic10\"], \"logprob\": [30.0, 29.0, 28.0, 27.0, 26.0, 25.0, 24.0, 23.0, 22.0, 21.0, 20.0, 19.0, 18.0, 17.0, 16.0, 15.0, 14.0, 13.0, 12.0, 11.0, 10.0, 9.0, 8.0, 7.0, 6.0, 5.0, 4.0, 3.0, 2.0, 1.0, -0.6964, -0.6964, -10.1043, -10.1043, -10.1043, -10.1043, -10.1043, -10.1043, -10.1043, -10.1043, -10.1043, -10.1043, -10.1043, -10.1043, -10.1043, -10.1043, -10.1043, -10.1043, -10.1043, -10.1043, -10.1043, -10.1043, -10.1043, -10.1043, -10.1043, -10.1043, -10.1043, -10.1043, -10.1043, -10.1043, -10.1043, -10.1043, -10.1043, -10.1043, -10.1043, -10.1043, -10.1043, -10.1043, -10.1043, -10.1043, -10.1043, -10.1043, -10.1043, -10.1043, -10.1043, -10.1043, -10.1043, -10.1043, -10.1043, -10.1043, -10.1043, -10.1043, -10.1043, -10.1043, -0.6996, -0.6996, -6.4846, -6.4846, -10.0357, -10.0357, -10.0357, -10.0357, -10.0357, -10.0357, -10.0357, -10.0357, -10.0357, -10.0357, -10.0357, -10.0357, -10.0357, -10.0357, -10.0357, -10.0357, -10.0357, -10.0357, -10.0357, -10.0357, -10.0357, -10.0357, -10.0357, -10.0357, -10.0357, -10.0357, -10.0357, -10.0357, -10.0357, -10.0357, -10.0357, -10.0357, -10.0357, -10.0357, -10.0357, -10.0357, -10.0357, -10.0357, -10.0357, -10.0357, -10.0357, -10.0357, -10.0357, -10.0357, -10.0357, -10.0357, -10.0357, -10.0357, -0.6375, -3.6414, -4.3821, -4.6904, -4.7215, -4.7587, -4.7587, -5.0558, -5.0558, -5.0558, -1.0478, -4.7214, -6.2183, -8.3099, -8.3099, -8.3099, -8.3099, -8.3096, -8.3097, -8.3099, -8.3099, -8.3099, -8.3099, -8.3098, -8.3098, -8.3099, -8.3099, -8.3099, -8.3099, -8.3099, -8.3098, -8.3098, -8.3098, -8.3099, -8.3099, -8.3099, -8.3099, -8.3099, -8.3099, -8.3099, -8.3099, -8.3099, -2.6264, -3.3094, -0.2153, -4.5177, -4.6754, -4.7064, -4.0272, -5.0408, -5.0408, -5.3612, -5.938, -8.2948, -8.2948, -8.2948, -8.2948, -8.2948, -8.2948, -8.2948, -8.2948, -8.2948, -8.2948, -8.2948, -8.2948, -8.2948, -8.2948, -8.2948, -8.2948, -8.2948, -8.2948, -8.2948, -8.2947, -8.2948, -8.2948, -8.2948, -8.2948, -8.2948, -8.2948, -8.2948, -8.2948, -8.2948, -8.2948, -8.2948, -8.2948, -8.2948, -8.2948, -8.2948, -0.2677, -3.2504, -3.6993, -4.1701, -4.1701, -4.2011, -4.2383, -4.2383, -4.2383, -4.2383, -4.2383, -4.2383, -4.5354, -7.7895, -7.7895, -7.7895, -7.7895, -7.7895, -7.7895, -7.7895, -7.7895, -7.7895, -7.7895, -7.7895, -7.7895, -7.7895, -7.7895, -7.7895, -7.7895, -7.7892, -7.7894, -7.7894, -7.7895, -7.7895, -7.7895, -7.7895, -7.7895, -7.7895, -7.7895, -7.7895, -7.7895, -7.7895, -7.7895, -0.4075, -2.7398, -3.1163, -3.4134, -3.4134, -3.4134, -3.4134, -6.6675, -6.6675, -6.6675, -6.6675, -6.6675, -6.6675, -6.6675, -6.6675, -6.6675, -6.6675, -6.6675, -6.6675, -6.6675, -6.6675, -6.6675, -6.6675, -6.6675, -6.6675, -6.6675, -6.6675, -6.6675, -6.6675, -6.6675, -6.6675, -6.6675, -6.6675, -6.6675, -6.6675, -6.6675, -6.6675, -6.6675, -6.6675, -6.6675, -6.6675, -6.6675, -6.6675, -6.6675, -6.6675, -1.185, -2.3975, -2.774, -3.0711, -3.0711, -3.0711, -3.0711, -3.0711, -3.0711, -3.0711, -3.0711, -3.0711, -6.3252, -6.3252, -6.3252, -6.3252, -6.3252, -6.3252, -6.3252, -6.3252, -6.3252, -6.3252, -6.3252, -6.3252, -6.3252, -6.3252, -6.3252, -6.3252, -6.3252, -6.3252, -6.3252, -6.3252, -6.3252, -6.3252, -6.3252, -6.3252, -6.3252, -6.3252, -1.169, -1.5801, -2.9454, -2.9454, -2.9826, -3.2798, -3.2798, -3.2798, -3.2798, -3.2798, -3.2798, -6.5339, -6.5339, -6.5339, -6.5339, -6.5339, -6.5339, -6.5339, -6.5339, -6.5339, -6.5339, -6.5339, -6.5339, -6.5339, -6.5339, -6.5339, -6.5339, -6.5339, -6.5339, -6.5339, -6.5335, -6.5338, -6.5339, -6.5339, -6.5339, -6.5339, -6.5339, -6.5339, -6.5339, -1.68, -2.3596, -2.3906, -2.3906, -2.3906, -2.725, -2.725, -2.725, -2.725, -5.9791, -5.9791, -5.9791, -5.9791, -5.9791, -5.9791, -5.9791, -5.9791, -5.9791, -5.9791, -5.9791, -5.9791, -5.9791, -5.9791, -5.9791, -5.9791, -5.9791, -5.9791, -5.9791, -5.9791, -5.9791, -5.979, -5.979, -5.9791, -5.9791, -5.9791, -5.9791, -5.9791, -5.9791, -5.9791, -5.9791, -0.8647, -1.9908, -1.9908, -5.5421, -5.5421, -5.5421, -5.5421, -5.5421, -5.5421, -5.5421, -5.5421, -5.5421, -5.5421, -5.5421, -5.5421, -5.5421, -5.5421, -5.5421, -5.5421, -5.5421, -5.5421, -5.5421, -5.5421, -5.5421, -5.5421, -5.5421, -5.5421, -5.5421, -5.5421, -5.5421, -5.5418, -5.542, -5.5421, -5.5421, -5.5421, -5.5421, -5.5421, -5.5421, -5.5421, -5.5421, -5.5421, -5.5421, -5.5421, -5.5421], \"loglift\": [30.0, 29.0, 28.0, 27.0, 26.0, 25.0, 24.0, 23.0, 22.0, 21.0, 20.0, 19.0, 18.0, 17.0, 16.0, 15.0, 14.0, 13.0, 12.0, 11.0, 10.0, 9.0, 8.0, 7.0, 6.0, 5.0, 4.0, 3.0, 2.0, 1.0, 0.5157, 0.5157, -2.7586, -2.8072, -3.0026, -3.1334, -3.1334, -3.1448, -3.1448, -3.1863, -3.1863, -3.1863, -3.2827, -3.3205, -3.3382, -3.3478, -3.3478, -3.3695, -3.3879, -3.4318, -3.4585, -3.4585, -3.4585, -3.4585, -3.4585, -3.4585, -3.482, -3.5018, -3.5018, -3.583, -7.6428, -6.9357, -4.0431, -5.7609, -6.5351, -3.7993, -4.9241, -6.9736, -3.8286, -4.3428, -3.7993, -4.0431, -5.757, -4.0431, -4.0431, -3.874, -4.0431, -4.0431, -4.6209, -4.0431, -4.0431, -4.2537, -3.7993, -4.2537, 0.5125, 0.5125, 0.4862, 0.4862, -2.69, -2.7386, -2.9339, -3.0762, -3.0762, -3.1177, -3.1177, -3.1177, -3.2141, -3.2519, -3.2696, -3.2791, -3.2791, -3.3009, -3.3193, -3.3632, -3.3899, -3.3899, -3.3899, -3.3899, -3.3899, -3.3899, -3.4134, -3.4332, -3.4332, -3.5143, -7.5742, -6.8671, -3.9744, -5.6923, -6.4664, -3.7307, -4.8555, -6.905, -3.76, -4.2741, -3.7307, -3.9744, -5.6884, -3.9744, -3.9744, -3.8054, -3.9744, -3.9744, -4.5522, -3.9744, -3.9744, -4.1851, 2.531, 2.33, 2.1392, 2.026, 2.0133, 1.9979, 1.9979, 1.8622, 1.8622, 1.8622, 1.4137, 1.2956, 1.1274, -1.0128, -1.2082, -1.339, -1.339, -1.3501, -1.3502, -1.4883, -1.5261, -1.5438, -1.6374, -1.664, -1.664, -1.6641, -1.6641, -1.6641, -1.6641, -1.6876, -2.5285, -2.4592, -2.752, -5.1792, -3.9626, -4.7406, -7.0978, -7.0978, -2.2486, -3.9665, -2.0049, -3.1297, 2.5538, 2.4718, 2.2461, 2.1548, 2.0907, 2.0774, 1.9899, 1.9187, 1.9187, 1.7406, 1.3591, -0.9492, -1.324, -1.324, -1.3769, -1.3769, -1.3769, -1.4733, -1.5383, -1.5383, -1.5601, -1.5784, -1.6491, -1.6491, -1.6491, -1.6491, -1.6491, -1.6491, -1.6726, -1.6924, -1.9897, -3.0586, -2.4816, -2.2336, -3.9514, -2.4443, -2.5333, -3.0586, -5.1263, -5.1641, -7.0827, -7.0827, -4.7256, -2.0192, -1.9899, -2.2336, 2.863, 2.6741, 2.5763, 2.4324, 2.4324, 2.4212, 2.4075, 2.4075, 2.4075, 2.4075, 2.4075, 2.4075, 2.2861, -0.4438, -0.4925, -0.6878, -0.8187, -0.8187, -0.8301, -0.8301, -0.8716, -0.8716, -0.8716, -1.0058, -1.0234, -1.033, -1.033, -1.0547, -1.0731, -1.1168, -2.6093, -1.4844, -4.6209, -6.5774, -6.5774, -5.3281, -1.7283, -3.4461, -4.2203, -1.4845, -2.028, -1.4845, -1.7283, 3.1617, 3.0218, 2.9577, 2.8916, 2.8916, 2.8916, 2.8916, 0.6782, 0.6295, 0.4342, 0.3033, 0.3033, 0.292, 0.2919, 0.2504, 0.2504, 0.2504, 0.154, 0.1163, 0.0986, 0.089, 0.089, 0.0673, 0.0489, 0.0049, -0.0217, -0.0217, -0.0218, -0.0218, -0.0218, -1.4873, -4.206, -3.5368, -3.499, -5.4554, -5.4554, -0.1462, -0.6961, -0.6505, -0.0452, -0.8863, -0.6063, -2.3241, -0.3919, -0.6063, 3.1623, 3.086, 3.0392, 2.9901, 2.9901, 2.9901, 2.9901, 2.9901, 2.9901, 2.9901, 2.9901, 2.9901, 1.0205, 0.9718, 0.7765, 0.6456, 0.6456, 0.6343, 0.6342, 0.5927, 0.5927, 0.5927, 0.4963, 0.4586, 0.4409, 0.4313, 0.4313, 0.4096, 0.3912, 0.3472, -3.1566, -3.8637, -5.1131, -5.1131, -1.1451, -3.1945, 0.1961, -0.3538, 3.1744, 3.1569, 3.0176, 3.0176, 3.011, 2.9505, 2.9505, 2.9505, 2.9505, 2.9505, 2.9505, 0.8118, 0.7632, 0.5678, 0.437, 0.437, 0.4256, 0.4256, 0.3841, 0.3841, 0.3841, 0.2877, 0.2499, 0.2322, 0.2226, 0.2226, 0.2009, 0.1825, 0.1386, 0.1119, -0.5164, -4.0724, -5.3218, -5.3218, -3.3653, -1.3537, -3.4032, -0.0126, -0.5624, 3.2232, 3.1705, 3.1672, 3.1672, 3.1672, 3.1256, 3.1256, 3.1256, 3.1256, 1.3666, 1.318, 1.1227, 0.9918, 0.9918, 0.9804, 0.9804, 0.9389, 0.9389, 0.9389, 0.8425, 0.8047, 0.787, 0.7775, 0.7775, 0.7557, 0.7373, 0.6934, 0.6667, 0.6667, 0.6667, -2.8104, -3.5176, -4.767, -4.767, -0.0076, 0.038, -0.1978, -0.7989, -2.8484, 0.5423, 3.293, 3.2454, 3.2454, 1.8036, 1.755, 1.5597, 1.4288, 1.4288, 1.4174, 1.4174, 1.3759, 1.3759, 1.3759, 1.2795, 1.2417, 1.224, 1.2145, 1.2145, 1.1927, 1.1743, 1.1304, 1.1037, 1.1037, 1.1037, 1.1037, 1.1037, 1.1037, 1.0802, 1.0604, 1.0604, -0.3617, -3.0805, -4.33, -4.33, 0.4294, -2.3735, -2.4114, 0.9793, 0.475, 0.2392, 0.5192, -1.1987, -1.9728, 0.7629]}, \"token.table\": {\"Topic\": [6, 9, 10, 1, 2, 9, 10, 4, 9, 10, 7, 9, 10, 5, 9, 10, 4, 9, 10, 4, 9, 10, 5, 9, 10, 4, 9, 10, 5, 9, 10, 6, 9, 10, 3, 9, 10, 1, 2, 9, 10, 3, 9, 10, 4, 9, 10, 5, 9, 10, 9, 10, 5, 9, 10, 8, 9, 10, 4, 9, 10, 9, 10, 6, 9, 10, 9, 10, 3, 9, 10, 9, 10, 8, 9, 10, 4, 9, 10, 7, 9, 10, 5, 9, 10, 3, 9, 10, 9, 10, 5, 9, 10, 7, 9, 10, 5, 9, 10, 8, 9, 10, 6, 9, 10, 9, 10, 6, 9, 10, 5, 9, 10, 7, 9, 10, 7, 9, 10, 7, 9, 10, 3, 9, 10, 7, 9, 10, 4, 9, 10, 4, 9, 10, 3, 9, 10, 7, 9, 10, 5, 9, 10, 8, 9, 10, 9, 10, 3, 4, 9, 10, 6, 9, 10, 8, 9, 10, 3, 9, 10, 9, 10, 5, 9, 10, 7, 9, 10, 3, 9, 10, 8, 9, 10, 9, 10, 8, 9, 10, 8, 9, 10, 6, 9, 10, 9, 10, 3, 9, 10, 9, 10, 8, 9, 10, 9, 10, 3, 9, 10, 5, 9, 10, 2, 9, 10, 3, 9, 10, 7, 9, 10, 7, 9, 10, 3, 4, 9, 10, 2, 9, 10, 7, 9, 10, 8, 9, 10, 5, 9, 10, 8, 9, 10], \"Freq\": [0.9856384260982737, 0.0059375808801100825, 0.0059375808801100825, 0.5133316923122349, 0.4852193323827587, 0.0005622471985895234, 0.0005622471985895234, 0.5911972018560487, 0.14779930046401218, 0.14779930046401218, 0.7893407692401876, 0.07175825174910797, 0.07175825174910797, 0.6437392469607444, 0.12874784939214887, 0.12874784939214887, 0.2469359765537324, 0.2469359765537324, 0.2469359765537324, 0.8677680047764978, 0.054235500298531115, 0.054235500298531115, 0.6139532086651888, 0.1534883021662972, 0.1534883021662972, 0.406243919805034, 0.203121959902517, 0.203121959902517, 0.6164516131941771, 0.12329032263883542, 0.12329032263883542, 0.8508019528400773, 0.05317512205250483, 0.05317512205250483, 0.5070697896858443, 0.16902326322861475, 0.16902326322861475, 0.5133316923122349, 0.4852193323827587, 0.0005622471985895234, 0.0005622471985895234, 0.5753052254061419, 0.14382630635153548, 0.14382630635153548, 0.528558412341481, 0.17618613744716036, 0.17618613744716036, 0.7113573599312981, 0.08891966999141226, 0.08891966999141226, 0.8719084470556153, 0.05812722980370769, 0.643735799048026, 0.12874715980960522, 0.12874715980960522, 0.7647908615471698, 0.08497676239412998, 0.08497676239412998, 0.6611322782325875, 0.1322264556465175, 0.1322264556465175, 0.8719021899724321, 0.0581268126648288, 0.7325336534193969, 0.09156670667742461, 0.09156670667742461, 0.8719021899724321, 0.0581268126648288, 0.5070749928807794, 0.16902499762692647, 0.16902499762692647, 0.8719050770209001, 0.05812700513472668, 0.7647893425361844, 0.08497659361513159, 0.08497659361513159, 0.5285653919130998, 0.17618846397103327, 0.17618846397103327, 0.7893467798906021, 0.07175879817187292, 0.07175879817187292, 0.8136667414618753, 0.06258974934322117, 0.06258974934322117, 0.6820914843490412, 0.11368191405817353, 0.11368191405817353, 0.03144647672913239, 0.9433943018739716, 0.6437392469607444, 0.12874784939214887, 0.12874784939214887, 0.8399572231337217, 0.055997148208914785, 0.055997148208914785, 0.643735799048026, 0.12874715980960522, 0.12874715980960522, 0.804813289883373, 0.06706777415694776, 0.06706777415694776, 0.7325427059860931, 0.09156783824826163, 0.09156783824826163, 0.031446546840145695, 0.943396405204371, 0.7995014178233107, 0.07268194707484643, 0.07268194707484643, 0.6437366022396923, 0.12874732044793846, 0.12874732044793846, 0.7893407692401876, 0.07175825174910797, 0.07175825174910797, 0.8858422567581093, 0.040265557125368605, 0.040265557125368605, 0.7893407692401876, 0.07175825174910797, 0.07175825174910797, 0.5629322164385018, 0.14073305410962544, 0.14073305410962544, 0.7893414399099523, 0.07175831271908657, 0.07175831271908657, 0.9216887855176263, 0.029731896307020205, 0.029731896307020205, 0.580832299229895, 0.14520807480747375, 0.14520807480747375, 0.7871558873161325, 0.06559632394301104, 0.06559632394301104, 0.7893407692401876, 0.07175825174910797, 0.07175825174910797, 0.643735799048026, 0.12874715980960522, 0.12874715980960522, 0.7647908615471698, 0.08497676239412998, 0.08497676239412998, 0.9108920899424002, 0.04337581380678096, 0.2746269207265071, 0.5492538414530141, 0.06865673018162677, 0.06865673018162677, 0.7325319108265181, 0.09156648885331477, 0.09156648885331477, 0.7647908615471698, 0.08497676239412998, 0.08497676239412998, 0.9864002224880266, 0.003977420251967849, 0.003977420251967849, 0.9108894714580511, 0.04337568911705005, 0.6287906160117845, 0.1257581232023569, 0.1257581232023569, 0.7893414399099523, 0.07175831271908657, 0.07175831271908657, 0.2592416276328384, 0.2592416276328384, 0.2592416276328384, 0.7647893425361844, 0.08497659361513159, 0.08497659361513159, 0.8859857802933596, 0.042189799061588554, 0.8455962891083361, 0.06504586839294893, 0.06504586839294893, 0.9658145822303024, 0.012877527763070698, 0.012877527763070698, 0.7325383009899938, 0.09156728762374923, 0.09156728762374923, 0.9466147675821328, 0.02253844684719364, 0.5526802896481208, 0.1381700724120302, 0.1381700724120302, 0.010694225325682169, 0.9731745046370773, 0.9544444797724855, 0.01908888959544971, 0.01908888959544971, 0.9108894714580511, 0.04337568911705005, 0.5070708917901285, 0.16902363059670952, 0.16902363059670952, 0.6164515893062195, 0.12329031786124389, 0.12329031786124389, 0.5346047856264727, 0.17820159520882423, 0.17820159520882423, 0.5753052254061419, 0.14382630635153548, 0.14382630635153548, 0.7893429360235346, 0.07175844872941223, 0.07175844872941223, 0.7893429360235346, 0.07175844872941223, 0.07175844872941223, 0.3235960181444077, 0.6707262921538633, 0.001961187988753986, 0.001961187988753986, 0.5346047856264727, 0.17820159520882423, 0.17820159520882423, 0.9695571985656585, 0.01292742931420878, 0.01292742931420878, 0.8455962891083361, 0.06504586839294893, 0.06504586839294893, 0.9880498545708084, 0.0038296505991116604, 0.0038296505991116604, 0.7647908615471698, 0.08497676239412998, 0.08497676239412998], \"Term\": [\"Shahid\", \"Shahid\", \"Shahid\", \"audio\", \"audio\", \"audio\", \"audio\", \"award\", \"award\", \"award\", \"bad\", \"bad\", \"bad\", \"bird\", \"bird\", \"bird\", \"birth\", \"birth\", \"birth\", \"boy\", \"boy\", \"boy\", \"call\", \"call\", \"call\", \"cedarwood\", \"cedarwood\", \"cedarwood\", \"cellular\", \"cellular\", \"cellular\", \"chain\", \"chain\", \"chain\", \"chief\", \"chief\", \"chief\", \"clear\", \"clear\", \"clear\", \"clear\", \"cyber\", \"cyber\", \"cyber\", \"file\", \"file\", \"file\", \"free\", \"free\", \"free\", \"gas\", \"gas\", \"good\", \"good\", \"good\", \"hai\", \"hai\", \"hai\", \"hair\", \"hair\", \"hair\", \"harsh\", \"harsh\", \"hay\", \"hay\", \"hay\", \"haze\", \"haze\", \"home\", \"home\", \"home\", \"jug\", \"jug\", \"light\", \"light\", \"light\", \"liver\", \"liver\", \"liver\", \"main\", \"main\", \"main\", \"map\", \"map\", \"map\", \"mess\", \"mess\", \"mess\", \"movie\", \"movie\", \"name\", \"name\", \"name\", \"new\", \"new\", \"new\", \"night\", \"night\", \"night\", \"noise\", \"noise\", \"noise\", \"page\", \"page\", \"page\", \"phone\", \"phone\", \"play\", \"play\", \"play\", \"race\", \"race\", \"race\", \"recognition\", \"recognition\", \"recognition\", \"request\", \"request\", \"request\", \"result\", \"result\", \"result\", \"road\", \"road\", \"road\", \"robot\", \"robot\", \"robot\", \"sahi\", \"sahi\", \"sahi\", \"sahido\", \"sahido\", \"sahido\", \"search\", \"search\", \"search\", \"service\", \"service\", \"service\", \"shahid\", \"shahid\", \"shahid\", \"share\", \"share\", \"share\", \"short\", \"short\", \"show\", \"show\", \"show\", \"show\", \"silver\", \"silver\", \"silver\", \"siren\", \"siren\", \"siren\", \"size\", \"size\", \"size\", \"sohail\", \"sohail\", \"song\", \"song\", \"song\", \"sorry\", \"sorry\", \"sorry\", \"sour\", \"sour\", \"sour\", \"street\", \"street\", \"street\", \"study\", \"study\", \"sure\", \"sure\", \"sure\", \"sweet\", \"sweet\", \"sweet\", \"swimming\", \"swimming\", \"swimming\", \"time\", \"time\", \"tire\", \"tire\", \"tire\", \"verb\", \"verb\", \"verge\", \"verge\", \"verge\", \"version\", \"version\", \"virgin\", \"virgin\", \"virgin\", \"war\", \"war\", \"war\", \"way\", \"way\", \"way\", \"week\", \"week\", \"week\", \"wife\", \"wife\", \"wife\", \"wood\", \"wood\", \"wood\", \"word\", \"word\", \"word\", \"word\", \"wordbrain\", \"wordbrain\", \"wordbrain\", \"work\", \"work\", \"work\", \"workshop\", \"workshop\", \"workshop\", \"world\", \"world\", \"world\", \"xavier\", \"xavier\", \"xavier\"]}, \"R\": 30, \"lambda.step\": 0.01, \"plot.opts\": {\"xlab\": \"PC1\", \"ylab\": \"PC2\"}, \"topic.order\": [5, 6, 2, 1, 7, 3, 10, 4, 9, 8]};\n",
       "\n",
       "function LDAvis_load_lib(url, callback){\n",
       "  var s = document.createElement('script');\n",
       "  s.src = url;\n",
       "  s.async = true;\n",
       "  s.onreadystatechange = s.onload = callback;\n",
       "  s.onerror = function(){console.warn(\"failed to load library \" + url);};\n",
       "  document.getElementsByTagName(\"head\")[0].appendChild(s);\n",
       "}\n",
       "\n",
       "if(typeof(LDAvis) !== \"undefined\"){\n",
       "   // already loaded: just create the visualization\n",
       "   !function(LDAvis){\n",
       "       new LDAvis(\"#\" + \"ldavis_el310028886992013443081327017\", ldavis_el310028886992013443081327017_data);\n",
       "   }(LDAvis);\n",
       "}else if(typeof define === \"function\" && define.amd){\n",
       "   // require.js is available: use it to load d3/LDAvis\n",
       "   require.config({paths: {d3: \"https://d3js.org/d3.v5\"}});\n",
       "   require([\"d3\"], function(d3){\n",
       "      window.d3 = d3;\n",
       "      LDAvis_load_lib(\"https://cdn.jsdelivr.net/gh/bmabey/pyLDAvis@3.3.1/pyLDAvis/js/ldavis.v3.0.0.js\", function(){\n",
       "        new LDAvis(\"#\" + \"ldavis_el310028886992013443081327017\", ldavis_el310028886992013443081327017_data);\n",
       "      });\n",
       "    });\n",
       "}else{\n",
       "    // require.js not available: dynamically load d3 & LDAvis\n",
       "    LDAvis_load_lib(\"https://d3js.org/d3.v5.js\", function(){\n",
       "         LDAvis_load_lib(\"https://cdn.jsdelivr.net/gh/bmabey/pyLDAvis@3.3.1/pyLDAvis/js/ldavis.v3.0.0.js\", function(){\n",
       "                 new LDAvis(\"#\" + \"ldavis_el310028886992013443081327017\", ldavis_el310028886992013443081327017_data);\n",
       "            })\n",
       "         });\n",
       "}\n",
       "</script>"
      ],
      "text/plain": [
       "PreparedData(topic_coordinates=              x         y  topics  cluster       Freq\n",
       "topic                                                \n",
       "4      0.445105  0.009793       1        1  30.647228\n",
       "5      0.442441  0.011875       2        1  29.056032\n",
       "1     -0.102616 -0.371962       3        1   7.865394\n",
       "0     -0.098652 -0.377655       4        1   7.101101\n",
       "6     -0.062724  0.097905       5        1   5.646348\n",
       "2     -0.100590  0.113288       6        1   4.167066\n",
       "9     -0.127473  0.132857       7        1   4.090583\n",
       "3     -0.117857  0.129113       8        1   4.037404\n",
       "8     -0.135090  0.129976       9        1   3.761345\n",
       "7     -0.142544  0.124810      10        1   3.627500, topic_info=      Term         Freq        Total Category  logprob  loglift\n",
       "2     word   509.000000   509.000000  Default  30.0000  30.0000\n",
       "0    audio  1778.000000  1778.000000  Default  29.0000  29.0000\n",
       "1    clear  1778.000000  1778.000000  Default  28.0000  28.0000\n",
       "9    world   261.000000   261.000000  Default  27.0000  27.0000\n",
       "3     size   251.000000   251.000000  Default  26.0000  26.0000\n",
       "..     ...          ...          ...      ...      ...      ...\n",
       "76     boy     0.849577    18.438108  Topic10  -5.5421   0.2392\n",
       "4     main     0.849577    13.935573  Topic10  -5.5421   0.5192\n",
       "5    sweet     0.849577    77.654657  Topic10  -5.5421  -1.1987\n",
       "6   Shahid     0.849577   168.418758  Topic10  -5.5421  -1.9728\n",
       "7     page     0.849577    10.920865  Topic10  -5.5421   0.7629\n",
       "\n",
       "[473 rows x 6 columns], token_table=      Topic      Freq    Term\n",
       "term                         \n",
       "6         6  0.985638  Shahid\n",
       "6         9  0.005938  Shahid\n",
       "6        10  0.005938  Shahid\n",
       "0         1  0.513332   audio\n",
       "0         2  0.485219   audio\n",
       "...     ...       ...     ...\n",
       "9         9  0.003830   world\n",
       "9        10  0.003830   world\n",
       "38        8  0.764791  xavier\n",
       "38        9  0.084977  xavier\n",
       "38       10  0.084977  xavier\n",
       "\n",
       "[235 rows x 3 columns], R=30, lambda_step=0.01, plot_opts={'xlab': 'PC1', 'ylab': 'PC2'}, topic_order=[5, 6, 2, 1, 7, 3, 10, 4, 9, 8])"
      ]
     },
     "execution_count": 23,
     "metadata": {},
     "output_type": "execute_result"
    }
   ],
   "source": [
    "lda_viz = gensimvis.prepare(lda_model,doc_term_matrix,dictionary)\n",
    "lda_viz"
   ]
  },
  {
   "cell_type": "markdown",
   "id": "14cf5624",
   "metadata": {},
   "source": []
  },
  {
   "cell_type": "code",
   "execution_count": 24,
   "id": "7778941d",
   "metadata": {},
   "outputs": [],
   "source": [
    "from sklearn.feature_extraction.text import CountVectorizer"
   ]
  },
  {
   "cell_type": "code",
   "execution_count": 25,
   "id": "e3945401",
   "metadata": {},
   "outputs": [],
   "source": [
    "analysis=text['Speech_to_text']"
   ]
  },
  {
   "cell_type": "code",
   "execution_count": 26,
   "id": "45e5aad1",
   "metadata": {},
   "outputs": [
    {
     "data": {
      "text/plain": [
       "0    Audio not clear\n",
       "1             Sweden\n",
       "2        is the word\n",
       "3       size of word\n",
       "4     main is a word\n",
       "Name: Speech_to_text, dtype: object"
      ]
     },
     "execution_count": 26,
     "metadata": {},
     "output_type": "execute_result"
    }
   ],
   "source": [
    "analysis.head()"
   ]
  },
  {
   "cell_type": "code",
   "execution_count": 27,
   "id": "a16c88da",
   "metadata": {},
   "outputs": [],
   "source": [
    "def get_top_n_words(n_top_words, count_vectorizer, text_data):\n",
    "    vectorized_headlines = count_vectorizer.fit_transform(analysis.values)\n",
    "    vectorized_total = np.sum(vectorized_headlines, axis=0)\n",
    "    word_indices = np.flip(np.argsort(vectorized_total)[0,:], 1)\n",
    "    word_values = np.flip(np.sort(vectorized_total)[0,:],1)\n",
    "    \n",
    "    word_vectors = np.zeros((n_top_words, vectorized_headlines.shape[1]))\n",
    "    for i in range(n_top_words):\n",
    "        word_vectors[i,word_indices[0,i]] = 1\n",
    "\n",
    "    words = [word[0].encode('ascii').decode('utf-8') for \n",
    "             word in count_vectorizer.inverse_transform(word_vectors)]\n",
    "\n",
    "    return (words, word_values[0,:n_top_words].tolist()[0])"
   ]
  },
  {
   "cell_type": "code",
   "execution_count": 28,
   "id": "c79e5b8f",
   "metadata": {},
   "outputs": [
    {
     "data": {
      "image/png": "[encoded data removed]",
      "text/plain": [
       "<Figure size 1152x576 with 1 Axes>"
      ]
     },
     "metadata": {
      "needs_background": "light"
     },
     "output_type": "display_data"
    }
   ],
   "source": [
    "count_vectorizer = CountVectorizer(stop_words='english')\n",
    "words, word_values = get_top_n_words(n_top_words=15,\n",
    "                                     count_vectorizer=count_vectorizer, \n",
    "                                     text_data=analysis)\n",
    "\n",
    "fig, ax = plt.subplots(figsize=(16,8))\n",
    "ax.bar(range(len(words)), word_values);\n",
    "ax.set_xticks(range(len(words)));\n",
    "ax.set_xticklabels(words, rotation='vertical');\n",
    "ax.set_title('Top words in headlines dataset');\n",
    "ax.set_xlabel('Word');\n",
    "ax.set_ylabel('Number of occurences');\n",
    "plt.show()"
   ]
  },
  {
   "cell_type": "code",
   "execution_count": null,
   "id": "2e772100",
   "metadata": {},
   "outputs": [],
   "source": []
  },
  {
   "cell_type": "code",
   "execution_count": null,
   "id": "aa95e7fc",
   "metadata": {},
   "outputs": [],
   "source": []
  }
 ],
 "metadata": {
  "kernelspec": {
   "display_name": "Python 3 (ipykernel)",
   "language": "python",
   "name": "python3"
  },
  "language_info": {
   "codemirror_mode": {
    "name": "ipython",
    "version": 3
   },
   "file_extension": ".py",
   "mimetype": "text/x-python",
   "name": "python",
   "nbconvert_exporter": "python",
   "pygments_lexer": "ipython3",
   "version": "3.9.7"
  }
 },
 "nbformat": 4,
 "nbformat_minor": 5
}
